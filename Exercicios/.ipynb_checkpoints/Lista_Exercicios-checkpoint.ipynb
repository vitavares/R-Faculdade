{
 "cells": [
  {
   "cell_type": "markdown",
   "id": "c704a8e8",
   "metadata": {},
   "source": [
    "## PARTE 1"
   ]
  },
  {
   "cell_type": "markdown",
   "id": "db44e52a",
   "metadata": {},
   "source": [
    "1. Remova todos os objetos da seção de trabalho do R."
   ]
  },
  {
   "cell_type": "code",
   "execution_count": null,
   "id": "e5ce98fe",
   "metadata": {},
   "outputs": [],
   "source": [
    "rm(list = ls())"
   ]
  },
  {
   "cell_type": "markdown",
   "id": "5afcd1e3",
   "metadata": {},
   "source": [
    "2. Crie vetores para armazenar os dados de cada uma das colunas."
   ]
  },
  {
   "cell_type": "code",
   "execution_count": null,
   "id": "0f284d52",
   "metadata": {},
   "outputs": [],
   "source": [
    "N = c(1:36)\n",
    "Estado_civil = c(\"solteiro\", \"casado\", \"casado\", \"solteiro\", \"solteiro\", \"casado\", \"solteiro\", \"solteiro\", \"casado\", \"solteiro\", \"casado\", \"solteiro\", \"solteiro\", \"casado\", \"casado\", \"solteiro\", \"casado\", \"casado\", \"solteiro\", \"solteiro\", \"casado\", \"solteiro\", \"solteiro\", \"casado\", \"casado\", \"casado\", \"solteiro\", \"casado\", \"casado\", \"casado\", \"solteiro\", \"casado\", \"casado\", \"solteiro\", \"casado\", \"casado\")\n",
    "Grau_de_instrução = c(\"ensino fundamental\", \"ensino fundamental\", \"ensino fundamental\", \"ensino médio\", \"ensino fundamental\", \"ensino fundamental\", \"ensino fundamental\", \"ensino fundamental\", \"ensino médio\", \"ensino médio\", \"ensino médio\", \"ensino fundamental\", \"ensino médio\", \"ensino fundamental\", \"ensino médio\", \"ensino médio\", \"ensino médio\", \"ensino fundamental\", \"superior\", \"ensino médio\", \"ensino médio\", \"ensino médio\", \"ensino fundamental\", \"superior\", \"ensino médio\", \"ensino médio\", \"ensino fundamental\", \"ensino médio\", \"ensino médio\", \"ensino médio\", \"superior\", \"ensino fundamental\", \"superior\", \"superior\", \"ensino médio\", \"superior\")\n",
    "N_de_filhos = c(NA, 1, 2, NA, NA, 0, NA, NA, 1, NA, 2, NA, NA, 3, 0, NA, 1, 2, NA, NA, 1, NA, NA, 0, 2, 2, NA, 0, 5, 2, NA, 1, 3, NA, 2, 3)\n",
    "Salario = c(400, 456, 525, 573, 626, 666, 686, 739, 759, 744, 812, 846, 874, 895, 913, 935, 977, 980, 1053, 1076, 1106, 1159, 1200, 1279, 1323, 1360, 1385, 1469, 1471, 1599, 1622, 1661, 1726, 1875, 1940, 2330)/100\n",
    "Idade_Anos = c(26, 32, 36, 20, 40, 28, 41, 43, 34, 23, 33, 27, 37, 44, 30, 38, 31, 39, 25, 37, 30, 34, 41, 26, 32, 35, 46, 29, 40, 35, 31, 36, 43, 33, 48, 42)\n",
    "Idade_meses = c(03, 10, 05, 10, 07, 00, 00, 04, 10, 06, 06, 11, 05, 02, 05, 08, 07, 07, 08, 04, 09, 02, 00, 01, 05, 00,07, 08, 06, 10, 05, 04, 07, 07, 11, 02)\n",
    "Regiao = c(\"interior\", \"capital\", \"capital\", \"outra\", \"outra\", \"interior\", \"interior\", \"capital\", \"capital\", \"outra\", \"interior\", \"capital\", \"outra\", \"capital\", \"capital\", \"interior\", \"outra\", \"capital\", \"outra\", \"interior\", \"interior\", \"outra\", \"capital\", \"outra\", \"outra\", \"interior\", \"outra\", \"outra\", \"interior\", \"interior\", \"capital\", \"outra\", \"capital\", \"capital\", \"capital\", \"interior\")"
   ]
  },
  {
   "cell_type": "markdown",
   "id": "40e58753",
   "metadata": {},
   "source": [
    "3. Crie o data frame TEB formado por todos os vetores da questão 2."
   ]
  },
  {
   "cell_type": "code",
   "execution_count": null,
   "id": "316e9e1a",
   "metadata": {},
   "outputs": [],
   "source": [
    "TEB = data.frame(N, Estado_civil, Grau_de_instrução, N_de_filhos, Salario, Idade_Anos, Idade_meses, Regiao)"
   ]
  },
  {
   "cell_type": "markdown",
   "id": "ea682e50",
   "metadata": {},
   "source": [
    "4. Verifique a estrutuda do data frame TEB."
   ]
  },
  {
   "cell_type": "code",
   "execution_count": null,
   "id": "7cf62a30",
   "metadata": {},
   "outputs": [],
   "source": [
    "str(TEB)"
   ]
  },
  {
   "cell_type": "markdown",
   "id": "bea61b8e",
   "metadata": {},
   "source": [
    "5. Qual a dimensão (número de linhas e de colunas) do data frame TEB."
   ]
  },
  {
   "cell_type": "code",
   "execution_count": null,
   "id": "8e15914c",
   "metadata": {},
   "outputs": [],
   "source": [
    "dim(TEB)"
   ]
  },
  {
   "cell_type": "markdown",
   "id": "c0e55656",
   "metadata": {},
   "source": [
    "6. Renomeie as variáveis (cabeçalho) para: “Identificação”,“Estado Civil”, “Grau de Instrução”, “No. de Filhos”, “Salário”, “IdadeA”, “IdadeM”, “Região de Procedência”."
   ]
  },
  {
   "cell_type": "code",
   "execution_count": null,
   "id": "f79ae921",
   "metadata": {},
   "outputs": [],
   "source": [
    "colnames(TEB) = c('Identificação', 'Estado Civil', 'Grau de Instrução', 'No. de Filhos', 'Salário', 'IdadeA', 'IdadeM', 'Região de Procedência')"
   ]
  },
  {
   "cell_type": "markdown",
   "id": "d5ef9f53",
   "metadata": {},
   "source": [
    "7. Obtenha a tabela de frequência para a variável No. de Filhos."
   ]
  },
  {
   "cell_type": "code",
   "execution_count": null,
   "id": "0af78869",
   "metadata": {},
   "outputs": [],
   "source": [
    "freq_filhos = table(TEB[, 4], useNA = \"ifany\")\n",
    "freq_filhos"
   ]
  },
  {
   "cell_type": "markdown",
   "id": "30abb596",
   "metadata": {},
   "source": [
    "8. Calcule média, mediana, desvio padrão e variância do salário."
   ]
  },
  {
   "cell_type": "code",
   "execution_count": null,
   "id": "dd3554d7",
   "metadata": {},
   "outputs": [],
   "source": [
    "mean(Salario)\n",
    "median(Salario)\n",
    "sd(Salario)\n",
    "var(Salario)"
   ]
  },
  {
   "cell_type": "markdown",
   "id": "8ab70b4d",
   "metadata": {},
   "source": [
    "9. Crie o vetor salario1, dado pelo salário acrescido de 20%."
   ]
  },
  {
   "cell_type": "code",
   "execution_count": null,
   "id": "3f79bc66",
   "metadata": {},
   "outputs": [],
   "source": [
    "Salario1 = c(TEB$Salário * 1.2)"
   ]
  },
  {
   "cell_type": "markdown",
   "id": "1b65f8b3",
   "metadata": {},
   "source": [
    "10. Crie o vetor salario2, dado pelo salário adicionado de 1,5."
   ]
  },
  {
   "cell_type": "code",
   "execution_count": null,
   "id": "11912b05",
   "metadata": {},
   "outputs": [],
   "source": [
    "Salario2 = c(TEB$Salário + 1.5)"
   ]
  },
  {
   "cell_type": "markdown",
   "id": "05df896a",
   "metadata": {},
   "source": [
    "11. Crie o vetor salario3, dado pelo salário subtraído de 0,8."
   ]
  },
  {
   "cell_type": "code",
   "execution_count": null,
   "id": "9c9cf94e",
   "metadata": {},
   "outputs": [],
   "source": [
    "Salario3 = c(TEB$Salário - 0.8)"
   ]
  },
  {
   "cell_type": "markdown",
   "id": "96f9d713",
   "metadata": {},
   "source": [
    "12. Crie o vetor salario4, dado pelo salário multiplicado por 2."
   ]
  },
  {
   "cell_type": "code",
   "execution_count": null,
   "id": "6c7b8712",
   "metadata": {},
   "outputs": [],
   "source": [
    "Salario4 = c(TEB$Salário * 2)"
   ]
  },
  {
   "cell_type": "markdown",
   "id": "0e737e8c",
   "metadata": {},
   "source": [
    "13. Crie o vetor salario5, dado pelo salário dividido por 3."
   ]
  },
  {
   "cell_type": "code",
   "execution_count": null,
   "id": "6852fcaa",
   "metadata": {},
   "outputs": [],
   "source": [
    "Salario5 = c(TEB$Salário / 3)"
   ]
  },
  {
   "cell_type": "markdown",
   "id": "b2e10f05",
   "metadata": {},
   "source": [
    "14. Calcule média, mediana, desvio padrão e variância para salario1, salario2, salario3, salario4 e salario5."
   ]
  },
  {
   "cell_type": "markdown",
   "id": "ae0d496c",
   "metadata": {},
   "source": [
    "Salário1:\n",
    "13.3466666666667 /\n",
    "12.198 /\n",
    "5.50494900456463 /\n",
    "30.3044635428571\n",
    "\n",
    "Salário2:\n",
    "12.6222222222222 /\n",
    "11.665 /\n",
    "4.58745750380386 /\n",
    "21.0447663492063\n",
    "\n",
    "Salário3:\n",
    "10.3222222222222 /\n",
    "9.365 /\n",
    "4.58745750380386 /\n",
    "21.0447663492063\n",
    "\n",
    "Salário4:\n",
    "22.2444444444444 /\n",
    "20.33 /\n",
    "9.17491500760772 /\n",
    "84.1790653968254\n",
    "\n",
    "Salário5:\n",
    "3.70740740740741 /\n",
    "3.38833333333333 /\n",
    "1.52915250126795 /\n",
    "2.33830737213404"
   ]
  },
  {
   "cell_type": "markdown",
   "id": "f5115cdd",
   "metadata": {},
   "source": [
    "15. Os resultados da questão anterior estão de acordo com as propriedades das estatísticas?"
   ]
  },
  {
   "cell_type": "markdown",
   "id": "9507d4c4",
   "metadata": {},
   "source": [
    "Sim, os resultados me parecem estar em conformidade."
   ]
  },
  {
   "cell_type": "markdown",
   "id": "384f4a15",
   "metadata": {},
   "source": [
    "16. Salve o data frame dados com o nome “DadosTEB.csv”."
   ]
  },
  {
   "cell_type": "code",
   "execution_count": null,
   "id": "bdce0b0f",
   "metadata": {},
   "outputs": [],
   "source": []
  },
  {
   "cell_type": "markdown",
   "id": "2dd1b1fd",
   "metadata": {},
   "source": [
    "## PARTE 2"
   ]
  },
  {
   "cell_type": "markdown",
   "id": "49475184",
   "metadata": {},
   "source": [
    "17. Remova todos os objetos da seção de trabalho do R."
   ]
  },
  {
   "cell_type": "code",
   "execution_count": null,
   "id": "de752973",
   "metadata": {},
   "outputs": [],
   "source": [
    "rm(list = ls())"
   ]
  },
  {
   "cell_type": "markdown",
   "id": "909edf78",
   "metadata": {},
   "source": [
    "18. Leia o arquivo Tabela1.csv e atribua-o a um objeto (data frame) denominado tabela1."
   ]
  },
  {
   "cell_type": "code",
   "execution_count": null,
   "id": "d8255988",
   "metadata": {},
   "outputs": [],
   "source": [
    "tabela1 = read.csv('dados/Tabela1.csv', header = TRUE, sep = ';')"
   ]
  },
  {
   "cell_type": "markdown",
   "id": "7bc0d21f",
   "metadata": {},
   "source": [
    "19. Renomeie o cabeçalho para: “Identificação”,“Estado Civil”, “Grau de Instrução”, “No. de Filhos”, “Salário”, “IdadeA”, “IdadeM”, “Região de Procedência”."
   ]
  },
  {
   "cell_type": "code",
   "execution_count": null,
   "id": "c7d16fa8",
   "metadata": {},
   "outputs": [],
   "source": [
    "colnames(tabela1) = c('Identificação','Estado Civil', 'Grau de Instrução', 'No. de Filhos', 'Salário', 'IdadeA', 'IdadeM', 'Região de Procedência')"
   ]
  },
  {
   "cell_type": "markdown",
   "id": "d7ea2c42",
   "metadata": {},
   "source": [
    "20. Crie a variável Idade (em meses) a partir das variáveis IdadeA e IdadeM."
   ]
  },
  {
   "cell_type": "code",
   "execution_count": null,
   "id": "af096fe3",
   "metadata": {
    "scrolled": true
   },
   "outputs": [],
   "source": [
    "attach(tabela1)\n",
    "Idade = c((IdadeA*12)+IdadeM)\n",
    "detach(tabela1)"
   ]
  },
  {
   "cell_type": "markdown",
   "id": "cebfe985",
   "metadata": {},
   "source": [
    "21. Adicione a variável Idade ao data frame tabela1."
   ]
  },
  {
   "cell_type": "code",
   "execution_count": null,
   "id": "409ceb18",
   "metadata": {},
   "outputs": [],
   "source": [
    "tabela1 = cbind(tabela1, Idade)"
   ]
  },
  {
   "cell_type": "markdown",
   "id": "6a2bf682",
   "metadata": {},
   "source": [
    "22. Elimine as colunas IdadeA e IdadeM do data frame tabela1"
   ]
  },
  {
   "cell_type": "code",
   "execution_count": null,
   "id": "7bdfb90f",
   "metadata": {},
   "outputs": [],
   "source": [
    "tabela1 = tabela1[, -c(6, 7)]"
   ]
  },
  {
   "cell_type": "markdown",
   "id": "ef9945f2",
   "metadata": {},
   "source": [
    "23. Verifique a estrutura do data frame tabela1."
   ]
  },
  {
   "cell_type": "code",
   "execution_count": null,
   "id": "23eb5d4e",
   "metadata": {},
   "outputs": [],
   "source": [
    "str(tabela1)"
   ]
  },
  {
   "cell_type": "markdown",
   "id": "458d16e0",
   "metadata": {},
   "source": [
    "24. Obtenha a dimensão do data frame tabela1."
   ]
  },
  {
   "cell_type": "code",
   "execution_count": null,
   "id": "7dacf0bb",
   "metadata": {},
   "outputs": [],
   "source": [
    "dim(tabela1)"
   ]
  },
  {
   "cell_type": "markdown",
   "id": "8cc78a00",
   "metadata": {},
   "source": [
    "25. Obtenha a lista de objetos ativos na seção de trabalho do R."
   ]
  },
  {
   "cell_type": "code",
   "execution_count": null,
   "id": "ba2c3ec6",
   "metadata": {},
   "outputs": [],
   "source": [
    "ls()"
   ]
  },
  {
   "cell_type": "markdown",
   "id": "b61dd06c",
   "metadata": {},
   "source": [
    "26. Salve o data frame tabela1 com o nome “Tabela1Nova.csv”."
   ]
  },
  {
   "cell_type": "code",
   "execution_count": null,
   "id": "4a6007cd",
   "metadata": {},
   "outputs": [],
   "source": [
    "write.csv(tabela1, file = \"Tabela1Nova.csv\")"
   ]
  },
  {
   "cell_type": "markdown",
   "id": "59e2c510",
   "metadata": {},
   "source": [
    "27. Elimine todos os objetos da seção de trabalho do R."
   ]
  },
  {
   "cell_type": "code",
   "execution_count": null,
   "id": "5e9d1e68",
   "metadata": {},
   "outputs": [],
   "source": [
    "rm(list = ls())"
   ]
  },
  {
   "cell_type": "markdown",
   "id": "4e075718",
   "metadata": {},
   "source": [
    "## PARTE 3"
   ]
  },
  {
   "cell_type": "markdown",
   "id": "0182f561",
   "metadata": {},
   "source": [
    "28. Remova todos os objetos da seção de trabalho do R."
   ]
  },
  {
   "cell_type": "code",
   "execution_count": null,
   "id": "9986bfcb",
   "metadata": {},
   "outputs": [],
   "source": [
    "rm(list = ls())"
   ]
  },
  {
   "cell_type": "markdown",
   "id": "b15f06eb",
   "metadata": {},
   "source": [
    "29. Leia o arquivo Tabela2.csv e atribua-o ao objeto (data frame) tabela2. Não altere os nomes das variáveis,a menos que seja solicitado em alguma questão."
   ]
  },
  {
   "cell_type": "code",
   "execution_count": null,
   "id": "0c8fbb69",
   "metadata": {},
   "outputs": [],
   "source": [
    "tabela2 = read.table('dados/Tabela2.csv', header = TRUE, sep = ' ')\n",
    "tabela2"
   ]
  },
  {
   "cell_type": "markdown",
   "id": "2ebf7e20",
   "metadata": {},
   "source": [
    "##### 30. Apresente"
   ]
  },
  {
   "cell_type": "markdown",
   "id": "cdcfeee3",
   "metadata": {},
   "source": [
    "a) os registros dos empregados de identificação 12 e 32 (ver função subset)."
   ]
  },
  {
   "cell_type": "code",
   "execution_count": null,
   "id": "62e0a00c",
   "metadata": {},
   "outputs": [],
   "source": [
    "subset(tabela2, rownames(tabela2) %in% c(\"12\", \"32\"))"
   ]
  },
  {
   "cell_type": "code",
   "execution_count": null,
   "id": "bc8ae408",
   "metadata": {},
   "outputs": [],
   "source": []
  }
 ],
 "metadata": {
  "kernelspec": {
   "display_name": "R",
   "language": "R",
   "name": "ir"
  },
  "language_info": {
   "codemirror_mode": "r",
   "file_extension": ".r",
   "mimetype": "text/x-r-source",
   "name": "R",
   "pygments_lexer": "r",
   "version": "4.2.0"
  }
 },
 "nbformat": 4,
 "nbformat_minor": 5
}
