{
 "cells": [
  {
   "cell_type": "markdown",
   "id": "c704a8e8",
   "metadata": {},
   "source": [
    "## PARTE 1"
   ]
  },
  {
   "cell_type": "markdown",
   "id": "db44e52a",
   "metadata": {},
   "source": [
    "1. Remova todos os objetos da seção de trabalho do R."
   ]
  },
  {
   "cell_type": "code",
   "execution_count": 159,
   "id": "e5ce98fe",
   "metadata": {},
   "outputs": [],
   "source": [
    "rm(list = ls())"
   ]
  },
  {
   "cell_type": "markdown",
   "id": "5afcd1e3",
   "metadata": {},
   "source": [
    "2. Crie vetores para armazenar os dados de cada uma das colunas."
   ]
  },
  {
   "cell_type": "code",
   "execution_count": 160,
   "id": "0f284d52",
   "metadata": {},
   "outputs": [],
   "source": [
    "N = c(1:36)\n",
    "Estado_civil = c(\"solteiro\", \"casado\", \"casado\", \"solteiro\", \"solteiro\", \"casado\", \"solteiro\", \"solteiro\", \"casado\", \"solteiro\", \"casado\", \"solteiro\", \"solteiro\", \"casado\", \"casado\", \"solteiro\", \"casado\", \"casado\", \"solteiro\", \"solteiro\", \"casado\", \"solteiro\", \"solteiro\", \"casado\", \"casado\", \"casado\", \"solteiro\", \"casado\", \"casado\", \"casado\", \"solteiro\", \"casado\", \"casado\", \"solteiro\", \"casado\", \"casado\")\n",
    "Grau_de_instrução = c(\"ensino fundamental\", \"ensino fundamental\", \"ensino fundamental\", \"ensino médio\", \"ensino fundamental\", \"ensino fundamental\", \"ensino fundamental\", \"ensino fundamental\", \"ensino médio\", \"ensino médio\", \"ensino médio\", \"ensino fundamental\", \"ensino médio\", \"ensino fundamental\", \"ensino médio\", \"ensino médio\", \"ensino médio\", \"ensino fundamental\", \"superior\", \"ensino médio\", \"ensino médio\", \"ensino médio\", \"ensino fundamental\", \"superior\", \"ensino médio\", \"ensino médio\", \"ensino fundamental\", \"ensino médio\", \"ensino médio\", \"ensino médio\", \"superior\", \"ensino fundamental\", \"superior\", \"superior\", \"ensino médio\", \"superior\")\n",
    "N_de_filhos = c(NA, 1, 2, NA, NA, 0, NA, NA, 1, NA, 2, NA, NA, 3, 0, NA, 1, 2, NA, NA, 1, NA, NA, 0, 2, 2, NA, 0, 5, 2, NA, 1, 3, NA, 2, 3)\n",
    "Salario = c(400, 456, 525, 573, 626, 666, 686, 739, 759, 744, 812, 846, 874, 895, 913, 935, 977, 980, 1053, 1076, 1106, 1159, 1200, 1279, 1323, 1360, 1385, 1469, 1471, 1599, 1622, 1661, 1726, 1875, 1940, 2330)/100\n",
    "Idade_Anos = c(26, 32, 36, 20, 40, 28, 41, 43, 34, 23, 33, 27, 37, 44, 30, 38, 31, 39, 25, 37, 30, 34, 41, 26, 32, 35, 46, 29, 40, 35, 31, 36, 43, 33, 48, 42)\n",
    "Idade_meses = c(03, 10, 05, 10, 07, 00, 00, 04, 10, 06, 06, 11, 05, 02, 05, 08, 07, 07, 08, 04, 09, 02, 00, 01, 05, 00,07, 08, 06, 10, 05, 04, 07, 07, 11, 02)\n",
    "Regiao = c(\"interior\", \"capital\", \"capital\", \"outra\", \"outra\", \"interior\", \"interior\", \"capital\", \"capital\", \"outra\", \"interior\", \"capital\", \"outra\", \"capital\", \"capital\", \"interior\", \"outra\", \"capital\", \"outra\", \"interior\", \"interior\", \"outra\", \"capital\", \"outra\", \"outra\", \"interior\", \"outra\", \"outra\", \"interior\", \"interior\", \"capital\", \"outra\", \"capital\", \"capital\", \"capital\", \"interior\")"
   ]
  },
  {
   "cell_type": "markdown",
   "id": "40e58753",
   "metadata": {},
   "source": [
    "3. Crie o data frame TEB formado por todos os vetores da questão 2."
   ]
  },
  {
   "cell_type": "code",
   "execution_count": 161,
   "id": "316e9e1a",
   "metadata": {},
   "outputs": [],
   "source": [
    "TEB = data.frame(N, Estado_civil, Grau_de_instrução, N_de_filhos, Salario, Idade_Anos, Idade_meses, Regiao)"
   ]
  },
  {
   "cell_type": "markdown",
   "id": "ea682e50",
   "metadata": {},
   "source": [
    "4. Verifique a estrutuda do data frame TEB."
   ]
  },
  {
   "cell_type": "code",
   "execution_count": 162,
   "id": "7cf62a30",
   "metadata": {},
   "outputs": [
    {
     "name": "stdout",
     "output_type": "stream",
     "text": [
      "'data.frame':\t36 obs. of  8 variables:\n",
      " $ N                : int  1 2 3 4 5 6 7 8 9 10 ...\n",
      " $ Estado_civil     : chr  \"solteiro\" \"casado\" \"casado\" \"solteiro\" ...\n",
      " $ Grau_de_instrução: chr  \"ensino fundamental\" \"ensino fundamental\" \"ensino fundamental\" \"ensino médio\" ...\n",
      " $ N_de_filhos      : num  NA 1 2 NA NA 0 NA NA 1 NA ...\n",
      " $ Salario          : num  4 4.56 5.25 5.73 6.26 6.66 6.86 7.39 7.59 7.44 ...\n",
      " $ Idade_Anos       : num  26 32 36 20 40 28 41 43 34 23 ...\n",
      " $ Idade_meses      : num  3 10 5 10 7 0 0 4 10 6 ...\n",
      " $ Regiao           : chr  \"interior\" \"capital\" \"capital\" \"outra\" ...\n"
     ]
    }
   ],
   "source": [
    "str(TEB)"
   ]
  },
  {
   "cell_type": "markdown",
   "id": "bea61b8e",
   "metadata": {},
   "source": [
    "5. Qual a dimensão (número de linhas e de colunas) do data frame TEB."
   ]
  },
  {
   "cell_type": "code",
   "execution_count": 163,
   "id": "8e15914c",
   "metadata": {},
   "outputs": [
    {
     "data": {
      "text/html": [
       "<style>\n",
       ".list-inline {list-style: none; margin:0; padding: 0}\n",
       ".list-inline>li {display: inline-block}\n",
       ".list-inline>li:not(:last-child)::after {content: \"\\00b7\"; padding: 0 .5ex}\n",
       "</style>\n",
       "<ol class=list-inline><li>36</li><li>8</li></ol>\n"
      ],
      "text/latex": [
       "\\begin{enumerate*}\n",
       "\\item 36\n",
       "\\item 8\n",
       "\\end{enumerate*}\n"
      ],
      "text/markdown": [
       "1. 36\n",
       "2. 8\n",
       "\n",
       "\n"
      ],
      "text/plain": [
       "[1] 36  8"
      ]
     },
     "metadata": {},
     "output_type": "display_data"
    }
   ],
   "source": [
    "dim(TEB)"
   ]
  },
  {
   "cell_type": "markdown",
   "id": "c0e55656",
   "metadata": {},
   "source": [
    "6. Renomeie as variáveis (cabeçalho) para: “Identificação”,“Estado Civil”, “Grau de Instrução”, “No. de Filhos”, “Salário”, “IdadeA”, “IdadeM”, “Região de Procedência”."
   ]
  },
  {
   "cell_type": "code",
   "execution_count": 164,
   "id": "f79ae921",
   "metadata": {},
   "outputs": [],
   "source": [
    "colnames(TEB) = c('Identificação', 'Estado Civil', 'Grau de Instrução', 'No. de Filhos', 'Salário', 'IdadeA', 'IdadeM', 'Região de Procedência')"
   ]
  },
  {
   "cell_type": "markdown",
   "id": "d5ef9f53",
   "metadata": {},
   "source": [
    "7. Obtenha a tabela de frequência para a variável No. de Filhos."
   ]
  },
  {
   "cell_type": "code",
   "execution_count": 165,
   "id": "0af78869",
   "metadata": {},
   "outputs": [
    {
     "data": {
      "text/plain": [
       "\n",
       "   0    1    2    3    5 <NA> \n",
       "   4    5    7    3    1   16 "
      ]
     },
     "metadata": {},
     "output_type": "display_data"
    }
   ],
   "source": [
    "freq_filhos = table(TEB[, 4], useNA = \"ifany\")\n",
    "freq_filhos"
   ]
  },
  {
   "cell_type": "markdown",
   "id": "30abb596",
   "metadata": {},
   "source": [
    "8. Calcule média, mediana, desvio padrão e variância do salário."
   ]
  },
  {
   "cell_type": "code",
   "execution_count": 166,
   "id": "dd3554d7",
   "metadata": {},
   "outputs": [
    {
     "data": {
      "text/html": [
       "11.1222222222222"
      ],
      "text/latex": [
       "11.1222222222222"
      ],
      "text/markdown": [
       "11.1222222222222"
      ],
      "text/plain": [
       "[1] 11.12222"
      ]
     },
     "metadata": {},
     "output_type": "display_data"
    },
    {
     "data": {
      "text/html": [
       "10.165"
      ],
      "text/latex": [
       "10.165"
      ],
      "text/markdown": [
       "10.165"
      ],
      "text/plain": [
       "[1] 10.165"
      ]
     },
     "metadata": {},
     "output_type": "display_data"
    },
    {
     "data": {
      "text/html": [
       "4.58745750380386"
      ],
      "text/latex": [
       "4.58745750380386"
      ],
      "text/markdown": [
       "4.58745750380386"
      ],
      "text/plain": [
       "[1] 4.587458"
      ]
     },
     "metadata": {},
     "output_type": "display_data"
    },
    {
     "data": {
      "text/html": [
       "21.0447663492063"
      ],
      "text/latex": [
       "21.0447663492063"
      ],
      "text/markdown": [
       "21.0447663492063"
      ],
      "text/plain": [
       "[1] 21.04477"
      ]
     },
     "metadata": {},
     "output_type": "display_data"
    }
   ],
   "source": [
    "mean(Salario)\n",
    "median(Salario)\n",
    "sd(Salario)\n",
    "var(Salario)"
   ]
  },
  {
   "cell_type": "markdown",
   "id": "8ab70b4d",
   "metadata": {},
   "source": [
    "9. Crie o vetor salario1, dado pelo salário acrescido de 20%."
   ]
  },
  {
   "cell_type": "code",
   "execution_count": 167,
   "id": "3f79bc66",
   "metadata": {},
   "outputs": [],
   "source": [
    "Salario1 = c(TEB$Salário * 1.2)"
   ]
  },
  {
   "cell_type": "markdown",
   "id": "1b65f8b3",
   "metadata": {},
   "source": [
    "10. Crie o vetor salario2, dado pelo salário adicionado de 1,5."
   ]
  },
  {
   "cell_type": "code",
   "execution_count": 168,
   "id": "11912b05",
   "metadata": {},
   "outputs": [],
   "source": [
    "Salario2 = c(TEB$Salário + 1.5)"
   ]
  },
  {
   "cell_type": "markdown",
   "id": "05df896a",
   "metadata": {},
   "source": [
    "11. Crie o vetor salario3, dado pelo salário subtraído de 0,8."
   ]
  },
  {
   "cell_type": "code",
   "execution_count": 169,
   "id": "9c9cf94e",
   "metadata": {},
   "outputs": [],
   "source": [
    "Salario3 = c(TEB$Salário - 0.8)"
   ]
  },
  {
   "cell_type": "markdown",
   "id": "96f9d713",
   "metadata": {},
   "source": [
    "12. Crie o vetor salario4, dado pelo salário multiplicado por 2."
   ]
  },
  {
   "cell_type": "code",
   "execution_count": 170,
   "id": "6c7b8712",
   "metadata": {},
   "outputs": [],
   "source": [
    "Salario4 = c(TEB$Salário * 2)"
   ]
  },
  {
   "cell_type": "markdown",
   "id": "0e737e8c",
   "metadata": {},
   "source": [
    "13. Crie o vetor salario5, dado pelo salário dividido por 3."
   ]
  },
  {
   "cell_type": "code",
   "execution_count": 171,
   "id": "6852fcaa",
   "metadata": {},
   "outputs": [],
   "source": [
    "Salario5 = c(TEB$Salário / 3)"
   ]
  },
  {
   "cell_type": "markdown",
   "id": "b2e10f05",
   "metadata": {},
   "source": [
    "14. Calcule média, mediana, desvio padrão e variância para salario1, salario2, salario3, salario4 e salario5."
   ]
  },
  {
   "cell_type": "markdown",
   "id": "ae0d496c",
   "metadata": {},
   "source": [
    "Salário1:\n",
    "13.3466666666667 /\n",
    "12.198 /\n",
    "5.50494900456463 /\n",
    "30.3044635428571\n",
    "\n",
    "Salário2:\n",
    "12.6222222222222 /\n",
    "11.665 /\n",
    "4.58745750380386 /\n",
    "21.0447663492063\n",
    "\n",
    "Salário3:\n",
    "10.3222222222222 /\n",
    "9.365 /\n",
    "4.58745750380386 /\n",
    "21.0447663492063\n",
    "\n",
    "Salário4:\n",
    "22.2444444444444 /\n",
    "20.33 /\n",
    "9.17491500760772 /\n",
    "84.1790653968254\n",
    "\n",
    "Salário5:\n",
    "3.70740740740741 /\n",
    "3.38833333333333 /\n",
    "1.52915250126795 /\n",
    "2.33830737213404"
   ]
  },
  {
   "cell_type": "markdown",
   "id": "f5115cdd",
   "metadata": {},
   "source": [
    "15. Os resultados da questão anterior estão de acordo com as propriedades das estatísticas?"
   ]
  },
  {
   "cell_type": "markdown",
   "id": "9507d4c4",
   "metadata": {},
   "source": [
    "Sim, os resultados me parecem estar em conformidade."
   ]
  },
  {
   "cell_type": "markdown",
   "id": "384f4a15",
   "metadata": {},
   "source": [
    "16. Salve o data frame dados com o nome “DadosTEB.csv”."
   ]
  },
  {
   "cell_type": "code",
   "execution_count": null,
   "id": "bdce0b0f",
   "metadata": {},
   "outputs": [],
   "source": []
  },
  {
   "cell_type": "markdown",
   "id": "2dd1b1fd",
   "metadata": {},
   "source": [
    "## PARTE 2"
   ]
  },
  {
   "cell_type": "markdown",
   "id": "49475184",
   "metadata": {},
   "source": [
    "17. Remova todos os objetos da seção de trabalho do R."
   ]
  },
  {
   "cell_type": "code",
   "execution_count": 172,
   "id": "de752973",
   "metadata": {},
   "outputs": [],
   "source": [
    "rm(list = ls())"
   ]
  },
  {
   "cell_type": "markdown",
   "id": "909edf78",
   "metadata": {},
   "source": [
    "18. Leia o arquivo Tabela1.csv e atribua-o a um objeto (data frame) denominado tabela1."
   ]
  },
  {
   "cell_type": "code",
   "execution_count": 173,
   "id": "d8255988",
   "metadata": {},
   "outputs": [],
   "source": [
    "tabela1 = read.csv('dados/Tabela1.csv', header = TRUE, sep = ';')"
   ]
  },
  {
   "cell_type": "markdown",
   "id": "7bc0d21f",
   "metadata": {},
   "source": [
    "19. Renomeie o cabeçalho para: “Identificação”,“Estado Civil”, “Grau de Instrução”, “No. de Filhos”, “Salário”, “IdadeA”, “IdadeM”, “Região de Procedência”."
   ]
  },
  {
   "cell_type": "code",
   "execution_count": 174,
   "id": "ba1b4872",
   "metadata": {},
   "outputs": [],
   "source": [
    "colnames(tabela1) = c('Identificação','Estado Civil', 'Grau de Instrução', 'No. de Filhos', 'Salário', 'IdadeA', 'IdadeM', 'Região de Procedência')"
   ]
  },
  {
   "cell_type": "markdown",
   "id": "d62a5be6",
   "metadata": {},
   "source": [
    "20. Crie a variável Idade (em meses) a partir das variáveis IdadeA e IdadeM."
   ]
  },
  {
   "cell_type": "code",
   "execution_count": 175,
   "id": "86f33b98",
   "metadata": {
    "scrolled": true
   },
   "outputs": [],
   "source": [
    "attach(tabela1)\n",
    "Idade = c((IdadeA*12)+IdadeM)\n",
    "detach(tabela1)"
   ]
  },
  {
   "cell_type": "markdown",
   "id": "494d56bf",
   "metadata": {},
   "source": [
    "21. Adicione a variável Idade ao data frame tabela1."
   ]
  },
  {
   "cell_type": "code",
   "execution_count": 176,
   "id": "212e8275",
   "metadata": {},
   "outputs": [],
   "source": [
    "tabela1 = cbind(tabela1, Idade)"
   ]
  },
  {
   "cell_type": "markdown",
   "id": "1cd2ea0d",
   "metadata": {},
   "source": [
    "22. Elimine as colunas IdadeA e IdadeM do data frame tabela1"
   ]
  },
  {
   "cell_type": "code",
   "execution_count": 177,
   "id": "0b8ec74d",
   "metadata": {},
   "outputs": [],
   "source": [
    "tabela1 = tabela1[, -c(6, 7)]"
   ]
  },
  {
   "cell_type": "markdown",
   "id": "f00bd9e2",
   "metadata": {},
   "source": [
    "23. Verifique a estrutura do data frame tabela1."
   ]
  },
  {
   "cell_type": "code",
   "execution_count": 178,
   "id": "04e74c65",
   "metadata": {},
   "outputs": [
    {
     "name": "stdout",
     "output_type": "stream",
     "text": [
      "'data.frame':\t36 obs. of  7 variables:\n",
      " $ Identificação        : int  1 2 3 4 5 6 7 8 9 10 ...\n",
      " $ Estado Civil         : chr  \"Solteiro\" \"Casado\" \"Casado\" \"Solteiro\" ...\n",
      " $ Grau de Instrução    : chr  \"Ensino Fundamental\" \"Ensino Fundamental\" \"Ensino Fundamental\" \"Ensino M\\xe9dio\" ...\n",
      " $ No. de Filhos        : int  NA 1 2 NA NA 0 NA NA 1 NA ...\n",
      " $ Salário              : chr  \"4\" \"4,56\" \"5,25\" \"5,73\" ...\n",
      " $ Região de Procedência: chr  \"Interior\" \"Capital\" \"Capital\" \"Outra\" ...\n",
      " $ Idade                : num  315 394 437 250 487 336 492 520 418 282 ...\n"
     ]
    }
   ],
   "source": [
    "str(tabela1)"
   ]
  },
  {
   "cell_type": "markdown",
   "id": "70e23ac8",
   "metadata": {},
   "source": [
    "24. Obtenha a dimensão do data frame tabela1."
   ]
  },
  {
   "cell_type": "code",
   "execution_count": 179,
   "id": "891e2e22",
   "metadata": {},
   "outputs": [
    {
     "data": {
      "text/html": [
       "<style>\n",
       ".list-inline {list-style: none; margin:0; padding: 0}\n",
       ".list-inline>li {display: inline-block}\n",
       ".list-inline>li:not(:last-child)::after {content: \"\\00b7\"; padding: 0 .5ex}\n",
       "</style>\n",
       "<ol class=list-inline><li>36</li><li>7</li></ol>\n"
      ],
      "text/latex": [
       "\\begin{enumerate*}\n",
       "\\item 36\n",
       "\\item 7\n",
       "\\end{enumerate*}\n"
      ],
      "text/markdown": [
       "1. 36\n",
       "2. 7\n",
       "\n",
       "\n"
      ],
      "text/plain": [
       "[1] 36  7"
      ]
     },
     "metadata": {},
     "output_type": "display_data"
    }
   ],
   "source": [
    "dim(tabela1)"
   ]
  },
  {
   "cell_type": "markdown",
   "id": "b0ffe08d",
   "metadata": {},
   "source": [
    "25. Obtenha a lista de objetos ativos na seção de trabalho do R."
   ]
  },
  {
   "cell_type": "code",
   "execution_count": 180,
   "id": "9c050a44",
   "metadata": {},
   "outputs": [
    {
     "data": {
      "text/html": [
       "<style>\n",
       ".list-inline {list-style: none; margin:0; padding: 0}\n",
       ".list-inline>li {display: inline-block}\n",
       ".list-inline>li:not(:last-child)::after {content: \"\\00b7\"; padding: 0 .5ex}\n",
       "</style>\n",
       "<ol class=list-inline><li>'Idade'</li><li>'tabela1'</li></ol>\n"
      ],
      "text/latex": [
       "\\begin{enumerate*}\n",
       "\\item 'Idade'\n",
       "\\item 'tabela1'\n",
       "\\end{enumerate*}\n"
      ],
      "text/markdown": [
       "1. 'Idade'\n",
       "2. 'tabela1'\n",
       "\n",
       "\n"
      ],
      "text/plain": [
       "[1] \"Idade\"   \"tabela1\""
      ]
     },
     "metadata": {},
     "output_type": "display_data"
    }
   ],
   "source": [
    "ls()"
   ]
  },
  {
   "cell_type": "markdown",
   "id": "dd91de31",
   "metadata": {},
   "source": [
    "26. Salve o data frame tabela1 com o nome “Tabela1Nova.csv”."
   ]
  },
  {
   "cell_type": "code",
   "execution_count": 181,
   "id": "58a082da",
   "metadata": {},
   "outputs": [],
   "source": [
    "write.csv(tabela1, file = \"Tabela1Nova.csv\")"
   ]
  },
  {
   "cell_type": "markdown",
   "id": "5c1d044d",
   "metadata": {},
   "source": [
    "27. Elimine todos os objetos da seção de trabalho do R."
   ]
  },
  {
   "cell_type": "code",
   "execution_count": 182,
   "id": "c548c600",
   "metadata": {},
   "outputs": [],
   "source": [
    "rm(list = ls())"
   ]
  },
  {
   "cell_type": "markdown",
   "id": "baeae808",
   "metadata": {},
   "source": [
    "## PARTE 3"
   ]
  },
  {
   "cell_type": "markdown",
   "id": "4baf087d",
   "metadata": {},
   "source": [
    "28. Remova todos os objetos da seção de trabalho do R."
   ]
  },
  {
   "cell_type": "code",
   "execution_count": 183,
   "id": "a58c702c",
   "metadata": {},
   "outputs": [],
   "source": [
    "rm(list = ls())"
   ]
  },
  {
   "cell_type": "markdown",
   "id": "16e18fc3",
   "metadata": {},
   "source": [
    "29. Leia o arquivo Tabela2.csv e atribua-o ao objeto (data frame) tabela2. Não altere os nomes das variáveis,a menos que seja solicitado em alguma questão."
   ]
  },
  {
   "cell_type": "code",
   "execution_count": 194,
   "id": "974e0aac",
   "metadata": {},
   "outputs": [
    {
     "data": {
      "text/html": [
       "<table class=\"dataframe\">\n",
       "<caption>A data.frame: 50 × 7</caption>\n",
       "<thead>\n",
       "\t<tr><th scope=col>nr</th><th scope=col>ec</th><th scope=col>gi</th><th scope=col>nf</th><th scope=col>sa</th><th scope=col>rp</th><th scope=col>id</th></tr>\n",
       "\t<tr><th scope=col>&lt;int&gt;</th><th scope=col>&lt;chr&gt;</th><th scope=col>&lt;chr&gt;</th><th scope=col>&lt;int&gt;</th><th scope=col>&lt;dbl&gt;</th><th scope=col>&lt;chr&gt;</th><th scope=col>&lt;int&gt;</th></tr>\n",
       "</thead>\n",
       "<tbody>\n",
       "\t<tr><td> 1</td><td>Solteiro</td><td>Ensino Fundamental</td><td>NA</td><td> 4.0</td><td>Interior</td><td>315</td></tr>\n",
       "\t<tr><td> 2</td><td>Solteiro</td><td>Ensino Medio      </td><td>NA</td><td> 9.4</td><td>Outra   </td><td>464</td></tr>\n",
       "\t<tr><td> 3</td><td>Casado  </td><td>Ensino Medio      </td><td> 1</td><td> 9.8</td><td>Capital </td><td>379</td></tr>\n",
       "\t<tr><td> 4</td><td>Casado  </td><td>Ensino Fundamental</td><td> 2</td><td> 9.8</td><td>Outra   </td><td>475</td></tr>\n",
       "\t<tr><td> 5</td><td>Solteiro</td><td>Superior          </td><td>NA</td><td>10.5</td><td>Interior</td><td>308</td></tr>\n",
       "\t<tr><td> 6</td><td>Solteiro</td><td>Ensino Medio      </td><td>NA</td><td>10.8</td><td>Interior</td><td>448</td></tr>\n",
       "\t<tr><td> 7</td><td>Casado  </td><td>Ensino Medio      </td><td> 1</td><td>11.1</td><td>Outra   </td><td>369</td></tr>\n",
       "\t<tr><td> 8</td><td>Solteiro</td><td>Ensino Medio      </td><td>NA</td><td>11.6</td><td>Capital </td><td>410</td></tr>\n",
       "\t<tr><td> 9</td><td>Casado  </td><td>Superior          </td><td> 0</td><td>12.8</td><td>Outra   </td><td>313</td></tr>\n",
       "\t<tr><td>10</td><td>Solteiro</td><td>Ensino Fundamental</td><td>NA</td><td>12.0</td><td>Outra   </td><td>492</td></tr>\n",
       "\t<tr><td>11</td><td>Casado  </td><td>Ensino Medio      </td><td> 2</td><td>13.2</td><td>Interior</td><td>389</td></tr>\n",
       "\t<tr><td>12</td><td>Solteiro</td><td>Superior          </td><td>NA</td><td>16.2</td><td>Outra   </td><td>377</td></tr>\n",
       "\t<tr><td>13</td><td>Solteiro</td><td>Ensino Fundamental</td><td>NA</td><td>13.9</td><td>Outra   </td><td>559</td></tr>\n",
       "\t<tr><td>14</td><td>Casado  </td><td>Ensino Medio      </td><td> 0</td><td>14.7</td><td>Interior</td><td>356</td></tr>\n",
       "\t<tr><td>15</td><td>Casado  </td><td>Ensino Medio      </td><td> 5</td><td>14.7</td><td>Interior</td><td>486</td></tr>\n",
       "\t<tr><td>16</td><td>Casado  </td><td>Ensino Medio      </td><td> 2</td><td>16.0</td><td>Capital </td><td>430</td></tr>\n",
       "\t<tr><td>17</td><td>Casado  </td><td>Ensino Medio      </td><td> 2</td><td>13.6</td><td>Outra   </td><td>420</td></tr>\n",
       "\t<tr><td>18</td><td>Casado  </td><td>Ensino Medio      </td><td> 1</td><td>16.6</td><td>Interior</td><td>436</td></tr>\n",
       "\t<tr><td>19</td><td>Casado  </td><td>Superior          </td><td> 3</td><td>17.3</td><td>Capital </td><td>523</td></tr>\n",
       "\t<tr><td>20</td><td>Casado  </td><td>Superior          </td><td> 3</td><td>23.3</td><td>Interior</td><td>506</td></tr>\n",
       "\t<tr><td>21</td><td>Casado  </td><td>Ensino Medio      </td><td> 2</td><td>19.4</td><td>Capital </td><td>587</td></tr>\n",
       "\t<tr><td>22</td><td>Solteiro</td><td>Superior          </td><td>NA</td><td>18.8</td><td>Capital </td><td>403</td></tr>\n",
       "\t<tr><td>23</td><td>Casado  </td><td>Ensino Fundamental</td><td> 2</td><td> 4.8</td><td>Capital </td><td>357</td></tr>\n",
       "\t<tr><td>24</td><td>Solteiro</td><td>Superior          </td><td>NA</td><td>17.4</td><td>Capital </td><td>355</td></tr>\n",
       "\t<tr><td>25</td><td>Solteiro</td><td>Superior          </td><td>NA</td><td> 6.1</td><td>Capital </td><td>431</td></tr>\n",
       "\t<tr><td>26</td><td>Casado  </td><td>Ensino Medio      </td><td> 2</td><td> 7.2</td><td>Interior</td><td>307</td></tr>\n",
       "\t<tr><td>27</td><td>Casado  </td><td>Superior          </td><td> 1</td><td> 7.8</td><td>Interior</td><td>464</td></tr>\n",
       "\t<tr><td>28</td><td>Solteiro</td><td>Ensino Medio      </td><td>NA</td><td> 8.4</td><td>Capital </td><td>359</td></tr>\n",
       "\t<tr><td>29</td><td>Casado  </td><td>Superior          </td><td> 1</td><td> 9.5</td><td>Capital </td><td>470</td></tr>\n",
       "\t<tr><td>30</td><td>Casado  </td><td>Superior          </td><td> 2</td><td>20.0</td><td>Capital </td><td>399</td></tr>\n",
       "\t<tr><td>31</td><td>Solteiro</td><td>Superior          </td><td>NA</td><td>12.5</td><td>Interior</td><td>418</td></tr>\n",
       "\t<tr><td>32</td><td>Solteiro</td><td>Ensino Medio      </td><td>NA</td><td>14.9</td><td>Interior</td><td>339</td></tr>\n",
       "\t<tr><td>33</td><td>Casado  </td><td>Superior          </td><td> 1</td><td>16.5</td><td>Interior</td><td>420</td></tr>\n",
       "\t<tr><td>34</td><td>Casado  </td><td>Ensino Medio      </td><td> 3</td><td> 5.4</td><td>Capital </td><td>489</td></tr>\n",
       "\t<tr><td>35</td><td>Casado  </td><td>Superior          </td><td> 2</td><td>17.5</td><td>Capital </td><td>401</td></tr>\n",
       "\t<tr><td>36</td><td>Casado  </td><td>Superior          </td><td> 2</td><td>10.2</td><td>Outra   </td><td>318</td></tr>\n",
       "\t<tr><td>37</td><td>Casado  </td><td>Ensino Fundamental</td><td> 1</td><td> 4.6</td><td>Capital </td><td>394</td></tr>\n",
       "\t<tr><td>38</td><td>Solteiro</td><td>Ensino Medio      </td><td>NA</td><td> 5.7</td><td>Outra   </td><td>250</td></tr>\n",
       "\t<tr><td>39</td><td>Solteiro</td><td>Ensino Fundamental</td><td>NA</td><td> 6.9</td><td>Interior</td><td>492</td></tr>\n",
       "\t<tr><td>40</td><td>Casado  </td><td>Ensino Fundamental</td><td> 2</td><td> 5.3</td><td>Capital </td><td>437</td></tr>\n",
       "\t<tr><td>41</td><td>Solteiro</td><td>Ensino Fundamental</td><td>NA</td><td> 6.3</td><td>Outra   </td><td>487</td></tr>\n",
       "\t<tr><td>42</td><td>Casado  </td><td>Ensino Fundamental</td><td> 0</td><td> 6.7</td><td>Interior</td><td>336</td></tr>\n",
       "\t<tr><td>43</td><td>Solteiro</td><td>Ensino Medio      </td><td>NA</td><td> 7.4</td><td>Outra   </td><td>282</td></tr>\n",
       "\t<tr><td>44</td><td>Solteiro</td><td>Ensino Medio      </td><td>NA</td><td> 8.7</td><td>Outra   </td><td>449</td></tr>\n",
       "\t<tr><td>45</td><td>Casado  </td><td>Ensino Fundamental</td><td> 3</td><td> 9.0</td><td>Outra   </td><td>530</td></tr>\n",
       "\t<tr><td>46</td><td>Casado  </td><td>Ensino Medio      </td><td> 0</td><td> 9.1</td><td>Interior</td><td>365</td></tr>\n",
       "\t<tr><td>47</td><td>Solteiro</td><td>Ensino Fundamental</td><td>NA</td><td> 7.4</td><td>Capital </td><td>520</td></tr>\n",
       "\t<tr><td>48</td><td>Casado  </td><td>Ensino Medio      </td><td> 1</td><td> 7.6</td><td>Capital </td><td>418</td></tr>\n",
       "\t<tr><td>49</td><td>Solteiro</td><td>Ensino Fundamental</td><td>NA</td><td> 8.5</td><td>Capital </td><td>335</td></tr>\n",
       "\t<tr><td>50</td><td>Casado  </td><td>Ensino Medio      </td><td> 2</td><td> 8.1</td><td>Interior</td><td>402</td></tr>\n",
       "</tbody>\n",
       "</table>\n"
      ],
      "text/latex": [
       "A data.frame: 50 × 7\n",
       "\\begin{tabular}{lllllll}\n",
       " nr & ec & gi & nf & sa & rp & id\\\\\n",
       " <int> & <chr> & <chr> & <int> & <dbl> & <chr> & <int>\\\\\n",
       "\\hline\n",
       "\t  1 & Solteiro & Ensino Fundamental & NA &  4.0 & Interior & 315\\\\\n",
       "\t  2 & Solteiro & Ensino Medio       & NA &  9.4 & Outra    & 464\\\\\n",
       "\t  3 & Casado   & Ensino Medio       &  1 &  9.8 & Capital  & 379\\\\\n",
       "\t  4 & Casado   & Ensino Fundamental &  2 &  9.8 & Outra    & 475\\\\\n",
       "\t  5 & Solteiro & Superior           & NA & 10.5 & Interior & 308\\\\\n",
       "\t  6 & Solteiro & Ensino Medio       & NA & 10.8 & Interior & 448\\\\\n",
       "\t  7 & Casado   & Ensino Medio       &  1 & 11.1 & Outra    & 369\\\\\n",
       "\t  8 & Solteiro & Ensino Medio       & NA & 11.6 & Capital  & 410\\\\\n",
       "\t  9 & Casado   & Superior           &  0 & 12.8 & Outra    & 313\\\\\n",
       "\t 10 & Solteiro & Ensino Fundamental & NA & 12.0 & Outra    & 492\\\\\n",
       "\t 11 & Casado   & Ensino Medio       &  2 & 13.2 & Interior & 389\\\\\n",
       "\t 12 & Solteiro & Superior           & NA & 16.2 & Outra    & 377\\\\\n",
       "\t 13 & Solteiro & Ensino Fundamental & NA & 13.9 & Outra    & 559\\\\\n",
       "\t 14 & Casado   & Ensino Medio       &  0 & 14.7 & Interior & 356\\\\\n",
       "\t 15 & Casado   & Ensino Medio       &  5 & 14.7 & Interior & 486\\\\\n",
       "\t 16 & Casado   & Ensino Medio       &  2 & 16.0 & Capital  & 430\\\\\n",
       "\t 17 & Casado   & Ensino Medio       &  2 & 13.6 & Outra    & 420\\\\\n",
       "\t 18 & Casado   & Ensino Medio       &  1 & 16.6 & Interior & 436\\\\\n",
       "\t 19 & Casado   & Superior           &  3 & 17.3 & Capital  & 523\\\\\n",
       "\t 20 & Casado   & Superior           &  3 & 23.3 & Interior & 506\\\\\n",
       "\t 21 & Casado   & Ensino Medio       &  2 & 19.4 & Capital  & 587\\\\\n",
       "\t 22 & Solteiro & Superior           & NA & 18.8 & Capital  & 403\\\\\n",
       "\t 23 & Casado   & Ensino Fundamental &  2 &  4.8 & Capital  & 357\\\\\n",
       "\t 24 & Solteiro & Superior           & NA & 17.4 & Capital  & 355\\\\\n",
       "\t 25 & Solteiro & Superior           & NA &  6.1 & Capital  & 431\\\\\n",
       "\t 26 & Casado   & Ensino Medio       &  2 &  7.2 & Interior & 307\\\\\n",
       "\t 27 & Casado   & Superior           &  1 &  7.8 & Interior & 464\\\\\n",
       "\t 28 & Solteiro & Ensino Medio       & NA &  8.4 & Capital  & 359\\\\\n",
       "\t 29 & Casado   & Superior           &  1 &  9.5 & Capital  & 470\\\\\n",
       "\t 30 & Casado   & Superior           &  2 & 20.0 & Capital  & 399\\\\\n",
       "\t 31 & Solteiro & Superior           & NA & 12.5 & Interior & 418\\\\\n",
       "\t 32 & Solteiro & Ensino Medio       & NA & 14.9 & Interior & 339\\\\\n",
       "\t 33 & Casado   & Superior           &  1 & 16.5 & Interior & 420\\\\\n",
       "\t 34 & Casado   & Ensino Medio       &  3 &  5.4 & Capital  & 489\\\\\n",
       "\t 35 & Casado   & Superior           &  2 & 17.5 & Capital  & 401\\\\\n",
       "\t 36 & Casado   & Superior           &  2 & 10.2 & Outra    & 318\\\\\n",
       "\t 37 & Casado   & Ensino Fundamental &  1 &  4.6 & Capital  & 394\\\\\n",
       "\t 38 & Solteiro & Ensino Medio       & NA &  5.7 & Outra    & 250\\\\\n",
       "\t 39 & Solteiro & Ensino Fundamental & NA &  6.9 & Interior & 492\\\\\n",
       "\t 40 & Casado   & Ensino Fundamental &  2 &  5.3 & Capital  & 437\\\\\n",
       "\t 41 & Solteiro & Ensino Fundamental & NA &  6.3 & Outra    & 487\\\\\n",
       "\t 42 & Casado   & Ensino Fundamental &  0 &  6.7 & Interior & 336\\\\\n",
       "\t 43 & Solteiro & Ensino Medio       & NA &  7.4 & Outra    & 282\\\\\n",
       "\t 44 & Solteiro & Ensino Medio       & NA &  8.7 & Outra    & 449\\\\\n",
       "\t 45 & Casado   & Ensino Fundamental &  3 &  9.0 & Outra    & 530\\\\\n",
       "\t 46 & Casado   & Ensino Medio       &  0 &  9.1 & Interior & 365\\\\\n",
       "\t 47 & Solteiro & Ensino Fundamental & NA &  7.4 & Capital  & 520\\\\\n",
       "\t 48 & Casado   & Ensino Medio       &  1 &  7.6 & Capital  & 418\\\\\n",
       "\t 49 & Solteiro & Ensino Fundamental & NA &  8.5 & Capital  & 335\\\\\n",
       "\t 50 & Casado   & Ensino Medio       &  2 &  8.1 & Interior & 402\\\\\n",
       "\\end{tabular}\n"
      ],
      "text/markdown": [
       "\n",
       "A data.frame: 50 × 7\n",
       "\n",
       "| nr &lt;int&gt; | ec &lt;chr&gt; | gi &lt;chr&gt; | nf &lt;int&gt; | sa &lt;dbl&gt; | rp &lt;chr&gt; | id &lt;int&gt; |\n",
       "|---|---|---|---|---|---|---|\n",
       "|  1 | Solteiro | Ensino Fundamental | NA |  4.0 | Interior | 315 |\n",
       "|  2 | Solteiro | Ensino Medio       | NA |  9.4 | Outra    | 464 |\n",
       "|  3 | Casado   | Ensino Medio       |  1 |  9.8 | Capital  | 379 |\n",
       "|  4 | Casado   | Ensino Fundamental |  2 |  9.8 | Outra    | 475 |\n",
       "|  5 | Solteiro | Superior           | NA | 10.5 | Interior | 308 |\n",
       "|  6 | Solteiro | Ensino Medio       | NA | 10.8 | Interior | 448 |\n",
       "|  7 | Casado   | Ensino Medio       |  1 | 11.1 | Outra    | 369 |\n",
       "|  8 | Solteiro | Ensino Medio       | NA | 11.6 | Capital  | 410 |\n",
       "|  9 | Casado   | Superior           |  0 | 12.8 | Outra    | 313 |\n",
       "| 10 | Solteiro | Ensino Fundamental | NA | 12.0 | Outra    | 492 |\n",
       "| 11 | Casado   | Ensino Medio       |  2 | 13.2 | Interior | 389 |\n",
       "| 12 | Solteiro | Superior           | NA | 16.2 | Outra    | 377 |\n",
       "| 13 | Solteiro | Ensino Fundamental | NA | 13.9 | Outra    | 559 |\n",
       "| 14 | Casado   | Ensino Medio       |  0 | 14.7 | Interior | 356 |\n",
       "| 15 | Casado   | Ensino Medio       |  5 | 14.7 | Interior | 486 |\n",
       "| 16 | Casado   | Ensino Medio       |  2 | 16.0 | Capital  | 430 |\n",
       "| 17 | Casado   | Ensino Medio       |  2 | 13.6 | Outra    | 420 |\n",
       "| 18 | Casado   | Ensino Medio       |  1 | 16.6 | Interior | 436 |\n",
       "| 19 | Casado   | Superior           |  3 | 17.3 | Capital  | 523 |\n",
       "| 20 | Casado   | Superior           |  3 | 23.3 | Interior | 506 |\n",
       "| 21 | Casado   | Ensino Medio       |  2 | 19.4 | Capital  | 587 |\n",
       "| 22 | Solteiro | Superior           | NA | 18.8 | Capital  | 403 |\n",
       "| 23 | Casado   | Ensino Fundamental |  2 |  4.8 | Capital  | 357 |\n",
       "| 24 | Solteiro | Superior           | NA | 17.4 | Capital  | 355 |\n",
       "| 25 | Solteiro | Superior           | NA |  6.1 | Capital  | 431 |\n",
       "| 26 | Casado   | Ensino Medio       |  2 |  7.2 | Interior | 307 |\n",
       "| 27 | Casado   | Superior           |  1 |  7.8 | Interior | 464 |\n",
       "| 28 | Solteiro | Ensino Medio       | NA |  8.4 | Capital  | 359 |\n",
       "| 29 | Casado   | Superior           |  1 |  9.5 | Capital  | 470 |\n",
       "| 30 | Casado   | Superior           |  2 | 20.0 | Capital  | 399 |\n",
       "| 31 | Solteiro | Superior           | NA | 12.5 | Interior | 418 |\n",
       "| 32 | Solteiro | Ensino Medio       | NA | 14.9 | Interior | 339 |\n",
       "| 33 | Casado   | Superior           |  1 | 16.5 | Interior | 420 |\n",
       "| 34 | Casado   | Ensino Medio       |  3 |  5.4 | Capital  | 489 |\n",
       "| 35 | Casado   | Superior           |  2 | 17.5 | Capital  | 401 |\n",
       "| 36 | Casado   | Superior           |  2 | 10.2 | Outra    | 318 |\n",
       "| 37 | Casado   | Ensino Fundamental |  1 |  4.6 | Capital  | 394 |\n",
       "| 38 | Solteiro | Ensino Medio       | NA |  5.7 | Outra    | 250 |\n",
       "| 39 | Solteiro | Ensino Fundamental | NA |  6.9 | Interior | 492 |\n",
       "| 40 | Casado   | Ensino Fundamental |  2 |  5.3 | Capital  | 437 |\n",
       "| 41 | Solteiro | Ensino Fundamental | NA |  6.3 | Outra    | 487 |\n",
       "| 42 | Casado   | Ensino Fundamental |  0 |  6.7 | Interior | 336 |\n",
       "| 43 | Solteiro | Ensino Medio       | NA |  7.4 | Outra    | 282 |\n",
       "| 44 | Solteiro | Ensino Medio       | NA |  8.7 | Outra    | 449 |\n",
       "| 45 | Casado   | Ensino Fundamental |  3 |  9.0 | Outra    | 530 |\n",
       "| 46 | Casado   | Ensino Medio       |  0 |  9.1 | Interior | 365 |\n",
       "| 47 | Solteiro | Ensino Fundamental | NA |  7.4 | Capital  | 520 |\n",
       "| 48 | Casado   | Ensino Medio       |  1 |  7.6 | Capital  | 418 |\n",
       "| 49 | Solteiro | Ensino Fundamental | NA |  8.5 | Capital  | 335 |\n",
       "| 50 | Casado   | Ensino Medio       |  2 |  8.1 | Interior | 402 |\n",
       "\n"
      ],
      "text/plain": [
       "   nr ec       gi                 nf sa   rp       id \n",
       "1   1 Solteiro Ensino Fundamental NA  4.0 Interior 315\n",
       "2   2 Solteiro Ensino Medio       NA  9.4 Outra    464\n",
       "3   3 Casado   Ensino Medio        1  9.8 Capital  379\n",
       "4   4 Casado   Ensino Fundamental  2  9.8 Outra    475\n",
       "5   5 Solteiro Superior           NA 10.5 Interior 308\n",
       "6   6 Solteiro Ensino Medio       NA 10.8 Interior 448\n",
       "7   7 Casado   Ensino Medio        1 11.1 Outra    369\n",
       "8   8 Solteiro Ensino Medio       NA 11.6 Capital  410\n",
       "9   9 Casado   Superior            0 12.8 Outra    313\n",
       "10 10 Solteiro Ensino Fundamental NA 12.0 Outra    492\n",
       "11 11 Casado   Ensino Medio        2 13.2 Interior 389\n",
       "12 12 Solteiro Superior           NA 16.2 Outra    377\n",
       "13 13 Solteiro Ensino Fundamental NA 13.9 Outra    559\n",
       "14 14 Casado   Ensino Medio        0 14.7 Interior 356\n",
       "15 15 Casado   Ensino Medio        5 14.7 Interior 486\n",
       "16 16 Casado   Ensino Medio        2 16.0 Capital  430\n",
       "17 17 Casado   Ensino Medio        2 13.6 Outra    420\n",
       "18 18 Casado   Ensino Medio        1 16.6 Interior 436\n",
       "19 19 Casado   Superior            3 17.3 Capital  523\n",
       "20 20 Casado   Superior            3 23.3 Interior 506\n",
       "21 21 Casado   Ensino Medio        2 19.4 Capital  587\n",
       "22 22 Solteiro Superior           NA 18.8 Capital  403\n",
       "23 23 Casado   Ensino Fundamental  2  4.8 Capital  357\n",
       "24 24 Solteiro Superior           NA 17.4 Capital  355\n",
       "25 25 Solteiro Superior           NA  6.1 Capital  431\n",
       "26 26 Casado   Ensino Medio        2  7.2 Interior 307\n",
       "27 27 Casado   Superior            1  7.8 Interior 464\n",
       "28 28 Solteiro Ensino Medio       NA  8.4 Capital  359\n",
       "29 29 Casado   Superior            1  9.5 Capital  470\n",
       "30 30 Casado   Superior            2 20.0 Capital  399\n",
       "31 31 Solteiro Superior           NA 12.5 Interior 418\n",
       "32 32 Solteiro Ensino Medio       NA 14.9 Interior 339\n",
       "33 33 Casado   Superior            1 16.5 Interior 420\n",
       "34 34 Casado   Ensino Medio        3  5.4 Capital  489\n",
       "35 35 Casado   Superior            2 17.5 Capital  401\n",
       "36 36 Casado   Superior            2 10.2 Outra    318\n",
       "37 37 Casado   Ensino Fundamental  1  4.6 Capital  394\n",
       "38 38 Solteiro Ensino Medio       NA  5.7 Outra    250\n",
       "39 39 Solteiro Ensino Fundamental NA  6.9 Interior 492\n",
       "40 40 Casado   Ensino Fundamental  2  5.3 Capital  437\n",
       "41 41 Solteiro Ensino Fundamental NA  6.3 Outra    487\n",
       "42 42 Casado   Ensino Fundamental  0  6.7 Interior 336\n",
       "43 43 Solteiro Ensino Medio       NA  7.4 Outra    282\n",
       "44 44 Solteiro Ensino Medio       NA  8.7 Outra    449\n",
       "45 45 Casado   Ensino Fundamental  3  9.0 Outra    530\n",
       "46 46 Casado   Ensino Medio        0  9.1 Interior 365\n",
       "47 47 Solteiro Ensino Fundamental NA  7.4 Capital  520\n",
       "48 48 Casado   Ensino Medio        1  7.6 Capital  418\n",
       "49 49 Solteiro Ensino Fundamental NA  8.5 Capital  335\n",
       "50 50 Casado   Ensino Medio        2  8.1 Interior 402"
      ]
     },
     "metadata": {},
     "output_type": "display_data"
    }
   ],
   "source": [
    "tabela2 = read.table('dados/Tabela2.csv', header = TRUE, sep = ' ', dec = ',')\n",
    "tabela2"
   ]
  },
  {
   "cell_type": "markdown",
   "id": "396e1988",
   "metadata": {},
   "source": [
    "30. Apresente"
   ]
  },
  {
   "cell_type": "markdown",
   "id": "2069ac53",
   "metadata": {},
   "source": [
    "a) os registros dos empregados de identificação 12 e 32 (ver função subset)."
   ]
  },
  {
   "cell_type": "code",
   "execution_count": 219,
   "id": "667db6fc",
   "metadata": {},
   "outputs": [
    {
     "data": {
      "text/html": [
       "<table class=\"dataframe\">\n",
       "<caption>A data.frame: 2 × 7</caption>\n",
       "<thead>\n",
       "\t<tr><th></th><th scope=col>nr</th><th scope=col>ec</th><th scope=col>gi</th><th scope=col>nf</th><th scope=col>sa</th><th scope=col>rp</th><th scope=col>id</th></tr>\n",
       "\t<tr><th></th><th scope=col>&lt;int&gt;</th><th scope=col>&lt;chr&gt;</th><th scope=col>&lt;chr&gt;</th><th scope=col>&lt;int&gt;</th><th scope=col>&lt;dbl&gt;</th><th scope=col>&lt;chr&gt;</th><th scope=col>&lt;int&gt;</th></tr>\n",
       "</thead>\n",
       "<tbody>\n",
       "\t<tr><th scope=row>12</th><td>12</td><td>Solteiro</td><td>Superior    </td><td>NA</td><td>16.2</td><td>Outra   </td><td>377</td></tr>\n",
       "\t<tr><th scope=row>32</th><td>32</td><td>Solteiro</td><td>Ensino Medio</td><td>NA</td><td>14.9</td><td>Interior</td><td>339</td></tr>\n",
       "</tbody>\n",
       "</table>\n"
      ],
      "text/latex": [
       "A data.frame: 2 × 7\n",
       "\\begin{tabular}{r|lllllll}\n",
       "  & nr & ec & gi & nf & sa & rp & id\\\\\n",
       "  & <int> & <chr> & <chr> & <int> & <dbl> & <chr> & <int>\\\\\n",
       "\\hline\n",
       "\t12 & 12 & Solteiro & Superior     & NA & 16.2 & Outra    & 377\\\\\n",
       "\t32 & 32 & Solteiro & Ensino Medio & NA & 14.9 & Interior & 339\\\\\n",
       "\\end{tabular}\n"
      ],
      "text/markdown": [
       "\n",
       "A data.frame: 2 × 7\n",
       "\n",
       "| <!--/--> | nr &lt;int&gt; | ec &lt;chr&gt; | gi &lt;chr&gt; | nf &lt;int&gt; | sa &lt;dbl&gt; | rp &lt;chr&gt; | id &lt;int&gt; |\n",
       "|---|---|---|---|---|---|---|---|\n",
       "| 12 | 12 | Solteiro | Superior     | NA | 16.2 | Outra    | 377 |\n",
       "| 32 | 32 | Solteiro | Ensino Medio | NA | 14.9 | Interior | 339 |\n",
       "\n"
      ],
      "text/plain": [
       "   nr ec       gi           nf sa   rp       id \n",
       "12 12 Solteiro Superior     NA 16.2 Outra    377\n",
       "32 32 Solteiro Ensino Medio NA 14.9 Interior 339"
      ]
     },
     "metadata": {},
     "output_type": "display_data"
    }
   ],
   "source": [
    "subset(tabela2, rownames(tabela2) %in% c(\"12\", \"32\"))"
   ]
  },
  {
   "cell_type": "markdown",
   "id": "2e96e41c",
   "metadata": {},
   "source": [
    "b) apenas os registros das variáveis nr, nf e sa dos empregados de identificação 10 a 15."
   ]
  },
  {
   "cell_type": "code",
   "execution_count": 220,
   "id": "b0a129bf",
   "metadata": {},
   "outputs": [
    {
     "data": {
      "text/html": [
       "<table class=\"dataframe\">\n",
       "<caption>A data.frame: 2 × 3</caption>\n",
       "<thead>\n",
       "\t<tr><th></th><th scope=col>nr</th><th scope=col>nf</th><th scope=col>sa</th></tr>\n",
       "\t<tr><th></th><th scope=col>&lt;int&gt;</th><th scope=col>&lt;int&gt;</th><th scope=col>&lt;dbl&gt;</th></tr>\n",
       "</thead>\n",
       "<tbody>\n",
       "\t<tr><th scope=row>10</th><td>10</td><td>NA</td><td>12.0</td></tr>\n",
       "\t<tr><th scope=row>15</th><td>15</td><td> 5</td><td>14.7</td></tr>\n",
       "</tbody>\n",
       "</table>\n"
      ],
      "text/latex": [
       "A data.frame: 2 × 3\n",
       "\\begin{tabular}{r|lll}\n",
       "  & nr & nf & sa\\\\\n",
       "  & <int> & <int> & <dbl>\\\\\n",
       "\\hline\n",
       "\t10 & 10 & NA & 12.0\\\\\n",
       "\t15 & 15 &  5 & 14.7\\\\\n",
       "\\end{tabular}\n"
      ],
      "text/markdown": [
       "\n",
       "A data.frame: 2 × 3\n",
       "\n",
       "| <!--/--> | nr &lt;int&gt; | nf &lt;int&gt; | sa &lt;dbl&gt; |\n",
       "|---|---|---|---|\n",
       "| 10 | 10 | NA | 12.0 |\n",
       "| 15 | 15 |  5 | 14.7 |\n",
       "\n"
      ],
      "text/plain": [
       "   nr nf sa  \n",
       "10 10 NA 12.0\n",
       "15 15  5 14.7"
      ]
     },
     "metadata": {},
     "output_type": "display_data"
    }
   ],
   "source": [
    "subset(tabela2, rownames(tabela2) %in% c(\"10\", \"15\"), select = c('nr', 'nf', 'sa'))"
   ]
  },
  {
   "cell_type": "markdown",
   "id": "d9c3ec54",
   "metadata": {},
   "source": [
    "c) todos os registros dos funcionários com salário superior a 16 sm."
   ]
  },
  {
   "cell_type": "code",
   "execution_count": 221,
   "id": "31b11d0a",
   "metadata": {},
   "outputs": [
    {
     "data": {
      "text/html": [
       "<table class=\"dataframe\">\n",
       "<caption>A data.frame: 10 × 7</caption>\n",
       "<thead>\n",
       "\t<tr><th></th><th scope=col>nr</th><th scope=col>ec</th><th scope=col>gi</th><th scope=col>nf</th><th scope=col>sa</th><th scope=col>rp</th><th scope=col>id</th></tr>\n",
       "\t<tr><th></th><th scope=col>&lt;int&gt;</th><th scope=col>&lt;chr&gt;</th><th scope=col>&lt;chr&gt;</th><th scope=col>&lt;int&gt;</th><th scope=col>&lt;dbl&gt;</th><th scope=col>&lt;chr&gt;</th><th scope=col>&lt;int&gt;</th></tr>\n",
       "</thead>\n",
       "<tbody>\n",
       "\t<tr><th scope=row>12</th><td>12</td><td>Solteiro</td><td>Superior    </td><td>NA</td><td>16.2</td><td>Outra   </td><td>377</td></tr>\n",
       "\t<tr><th scope=row>18</th><td>18</td><td>Casado  </td><td>Ensino Medio</td><td> 1</td><td>16.6</td><td>Interior</td><td>436</td></tr>\n",
       "\t<tr><th scope=row>19</th><td>19</td><td>Casado  </td><td>Superior    </td><td> 3</td><td>17.3</td><td>Capital </td><td>523</td></tr>\n",
       "\t<tr><th scope=row>20</th><td>20</td><td>Casado  </td><td>Superior    </td><td> 3</td><td>23.3</td><td>Interior</td><td>506</td></tr>\n",
       "\t<tr><th scope=row>21</th><td>21</td><td>Casado  </td><td>Ensino Medio</td><td> 2</td><td>19.4</td><td>Capital </td><td>587</td></tr>\n",
       "\t<tr><th scope=row>22</th><td>22</td><td>Solteiro</td><td>Superior    </td><td>NA</td><td>18.8</td><td>Capital </td><td>403</td></tr>\n",
       "\t<tr><th scope=row>24</th><td>24</td><td>Solteiro</td><td>Superior    </td><td>NA</td><td>17.4</td><td>Capital </td><td>355</td></tr>\n",
       "\t<tr><th scope=row>30</th><td>30</td><td>Casado  </td><td>Superior    </td><td> 2</td><td>20.0</td><td>Capital </td><td>399</td></tr>\n",
       "\t<tr><th scope=row>33</th><td>33</td><td>Casado  </td><td>Superior    </td><td> 1</td><td>16.5</td><td>Interior</td><td>420</td></tr>\n",
       "\t<tr><th scope=row>35</th><td>35</td><td>Casado  </td><td>Superior    </td><td> 2</td><td>17.5</td><td>Capital </td><td>401</td></tr>\n",
       "</tbody>\n",
       "</table>\n"
      ],
      "text/latex": [
       "A data.frame: 10 × 7\n",
       "\\begin{tabular}{r|lllllll}\n",
       "  & nr & ec & gi & nf & sa & rp & id\\\\\n",
       "  & <int> & <chr> & <chr> & <int> & <dbl> & <chr> & <int>\\\\\n",
       "\\hline\n",
       "\t12 & 12 & Solteiro & Superior     & NA & 16.2 & Outra    & 377\\\\\n",
       "\t18 & 18 & Casado   & Ensino Medio &  1 & 16.6 & Interior & 436\\\\\n",
       "\t19 & 19 & Casado   & Superior     &  3 & 17.3 & Capital  & 523\\\\\n",
       "\t20 & 20 & Casado   & Superior     &  3 & 23.3 & Interior & 506\\\\\n",
       "\t21 & 21 & Casado   & Ensino Medio &  2 & 19.4 & Capital  & 587\\\\\n",
       "\t22 & 22 & Solteiro & Superior     & NA & 18.8 & Capital  & 403\\\\\n",
       "\t24 & 24 & Solteiro & Superior     & NA & 17.4 & Capital  & 355\\\\\n",
       "\t30 & 30 & Casado   & Superior     &  2 & 20.0 & Capital  & 399\\\\\n",
       "\t33 & 33 & Casado   & Superior     &  1 & 16.5 & Interior & 420\\\\\n",
       "\t35 & 35 & Casado   & Superior     &  2 & 17.5 & Capital  & 401\\\\\n",
       "\\end{tabular}\n"
      ],
      "text/markdown": [
       "\n",
       "A data.frame: 10 × 7\n",
       "\n",
       "| <!--/--> | nr &lt;int&gt; | ec &lt;chr&gt; | gi &lt;chr&gt; | nf &lt;int&gt; | sa &lt;dbl&gt; | rp &lt;chr&gt; | id &lt;int&gt; |\n",
       "|---|---|---|---|---|---|---|---|\n",
       "| 12 | 12 | Solteiro | Superior     | NA | 16.2 | Outra    | 377 |\n",
       "| 18 | 18 | Casado   | Ensino Medio |  1 | 16.6 | Interior | 436 |\n",
       "| 19 | 19 | Casado   | Superior     |  3 | 17.3 | Capital  | 523 |\n",
       "| 20 | 20 | Casado   | Superior     |  3 | 23.3 | Interior | 506 |\n",
       "| 21 | 21 | Casado   | Ensino Medio |  2 | 19.4 | Capital  | 587 |\n",
       "| 22 | 22 | Solteiro | Superior     | NA | 18.8 | Capital  | 403 |\n",
       "| 24 | 24 | Solteiro | Superior     | NA | 17.4 | Capital  | 355 |\n",
       "| 30 | 30 | Casado   | Superior     |  2 | 20.0 | Capital  | 399 |\n",
       "| 33 | 33 | Casado   | Superior     |  1 | 16.5 | Interior | 420 |\n",
       "| 35 | 35 | Casado   | Superior     |  2 | 17.5 | Capital  | 401 |\n",
       "\n"
      ],
      "text/plain": [
       "   nr ec       gi           nf sa   rp       id \n",
       "12 12 Solteiro Superior     NA 16.2 Outra    377\n",
       "18 18 Casado   Ensino Medio  1 16.6 Interior 436\n",
       "19 19 Casado   Superior      3 17.3 Capital  523\n",
       "20 20 Casado   Superior      3 23.3 Interior 506\n",
       "21 21 Casado   Ensino Medio  2 19.4 Capital  587\n",
       "22 22 Solteiro Superior     NA 18.8 Capital  403\n",
       "24 24 Solteiro Superior     NA 17.4 Capital  355\n",
       "30 30 Casado   Superior      2 20.0 Capital  399\n",
       "33 33 Casado   Superior      1 16.5 Interior 420\n",
       "35 35 Casado   Superior      2 17.5 Capital  401"
      ]
     },
     "metadata": {},
     "output_type": "display_data"
    }
   ],
   "source": [
    "subset(tabela2, subset = sa>16)"
   ]
  },
  {
   "cell_type": "markdown",
   "id": "9d4d56ed",
   "metadata": {},
   "source": [
    "d) média, mediana, mínimo, máximo, variância, desvio padrão, coeficiente de variação, boxplot e\n",
    "histograma para a variável salário."
   ]
  },
  {
   "cell_type": "code",
   "execution_count": 222,
   "id": "a8894338",
   "metadata": {},
   "outputs": [
    {
     "name": "stdout",
     "output_type": "stream",
     "text": [
      "A média é 11.18 \n",
      "A mediana é 10 \n",
      "O mínimo é 4 \n",
      "O máximo é 23.3 \n",
      "A variância é 21.93714 \n",
      "O desvio padrão é 4.68371 \n",
      "O coeficiente de variação é 41.89365 %\n"
     ]
    },
    {
     "data": {
      "image/png": "[encoded data removed]",
      "text/plain": [
       "Plot with title “Boxplot de salário”"
      ]
     },
     "metadata": {
      "image/png": {
       "height": 420,
       "width": 420
      }
     },
     "output_type": "display_data"
    },
    {
     "data": {
      "image/png": "[encoded data removed]",
      "text/plain": [
       "Plot with title “Hisograma do salário”"
      ]
     },
     "metadata": {
      "image/png": {
       "height": 420,
       "width": 420
      }
     },
     "output_type": "display_data"
    }
   ],
   "source": [
    "media = mean(tabela2$sa)\n",
    "mediana = median(tabela2$sa)\n",
    "minimo = min(tabela2$sa)\n",
    "maximo = max(tabela2$sa)\n",
    "variancia = var(tabela2$sa)\n",
    "desvio_p = sd(tabela2$sa)\n",
    "cv = desvio_p/media*100\n",
    "\n",
    "cat(\"A média é\", media, \"\\n\")\n",
    "cat(\"A mediana é\", mediana, \"\\n\")\n",
    "cat(\"O mínimo é\", minimo, \"\\n\")\n",
    "cat(\"O máximo é\", maximo, \"\\n\")\n",
    "cat(\"A variância é\", variancia, \"\\n\")\n",
    "cat(\"O desvio padrão é\", desvio_p, \"\\n\")\n",
    "cat(\"O coeficiente de variação é\", cv, \"%\\n\")\n",
    "boxplot(tabela2$sa, main='Boxplot de salário', col = 'blue')\n",
    "hist(tabela2$sa, main = 'Hisograma do salário', xlab = 'Valores', ylab = 'Frequência', col=\"blue\", border=\"black\")"
   ]
  },
  {
   "cell_type": "markdown",
   "id": "cd8433ac",
   "metadata": {},
   "source": [
    "e) a tabela de frequência da variável número de filhos."
   ]
  },
  {
   "cell_type": "code",
   "execution_count": 223,
   "id": "dd40b656",
   "metadata": {},
   "outputs": [
    {
     "data": {
      "text/plain": [
       "\n",
       "   0    1    2    3    5 <NA> \n",
       "   4    8   12    4    1   21 "
      ]
     },
     "metadata": {},
     "output_type": "display_data"
    }
   ],
   "source": [
    "freq_nf = table(tabela2$nf, useNA = 'always')\n",
    "freq_nf"
   ]
  },
  {
   "cell_type": "markdown",
   "id": "d7480b7a",
   "metadata": {},
   "source": [
    "f) ordene a base de dados tabela2 pelas variáveis ec, gi e rp, sequencialmente e em ordem crescente."
   ]
  },
  {
   "cell_type": "code",
   "execution_count": null,
   "id": "da8e48ed",
   "metadata": {},
   "outputs": [],
   "source": []
  },
  {
   "cell_type": "markdown",
   "id": "2b6704fb",
   "metadata": {},
   "source": [
    "g) ordene a base de dados tabela2 pelas variáveis ec, gi e rp, sequencialmente nas ordens crescente,\n",
    "decrescente e crescente."
   ]
  },
  {
   "cell_type": "code",
   "execution_count": null,
   "id": "f864a232",
   "metadata": {},
   "outputs": [],
   "source": []
  },
  {
   "cell_type": "markdown",
   "id": "165e8b82",
   "metadata": {},
   "source": [
    "31. Crie um novo data frame contendo apenas os registros dos empregados com ensino médio. Nomeie o data frame de res1."
   ]
  },
  {
   "cell_type": "code",
   "execution_count": 226,
   "id": "bda9181a",
   "metadata": {},
   "outputs": [
    {
     "data": {
      "text/html": [
       "<table class=\"dataframe\">\n",
       "<caption>A data.frame: 22 × 7</caption>\n",
       "<thead>\n",
       "\t<tr><th></th><th scope=col>nr</th><th scope=col>ec</th><th scope=col>gi</th><th scope=col>nf</th><th scope=col>sa</th><th scope=col>rp</th><th scope=col>id</th></tr>\n",
       "\t<tr><th></th><th scope=col>&lt;int&gt;</th><th scope=col>&lt;chr&gt;</th><th scope=col>&lt;chr&gt;</th><th scope=col>&lt;int&gt;</th><th scope=col>&lt;dbl&gt;</th><th scope=col>&lt;chr&gt;</th><th scope=col>&lt;int&gt;</th></tr>\n",
       "</thead>\n",
       "<tbody>\n",
       "\t<tr><th scope=row>2</th><td> 2</td><td>Solteiro</td><td>Ensino Medio</td><td>NA</td><td> 9.4</td><td>Outra   </td><td>464</td></tr>\n",
       "\t<tr><th scope=row>3</th><td> 3</td><td>Casado  </td><td>Ensino Medio</td><td> 1</td><td> 9.8</td><td>Capital </td><td>379</td></tr>\n",
       "\t<tr><th scope=row>6</th><td> 6</td><td>Solteiro</td><td>Ensino Medio</td><td>NA</td><td>10.8</td><td>Interior</td><td>448</td></tr>\n",
       "\t<tr><th scope=row>7</th><td> 7</td><td>Casado  </td><td>Ensino Medio</td><td> 1</td><td>11.1</td><td>Outra   </td><td>369</td></tr>\n",
       "\t<tr><th scope=row>8</th><td> 8</td><td>Solteiro</td><td>Ensino Medio</td><td>NA</td><td>11.6</td><td>Capital </td><td>410</td></tr>\n",
       "\t<tr><th scope=row>11</th><td>11</td><td>Casado  </td><td>Ensino Medio</td><td> 2</td><td>13.2</td><td>Interior</td><td>389</td></tr>\n",
       "\t<tr><th scope=row>14</th><td>14</td><td>Casado  </td><td>Ensino Medio</td><td> 0</td><td>14.7</td><td>Interior</td><td>356</td></tr>\n",
       "\t<tr><th scope=row>15</th><td>15</td><td>Casado  </td><td>Ensino Medio</td><td> 5</td><td>14.7</td><td>Interior</td><td>486</td></tr>\n",
       "\t<tr><th scope=row>16</th><td>16</td><td>Casado  </td><td>Ensino Medio</td><td> 2</td><td>16.0</td><td>Capital </td><td>430</td></tr>\n",
       "\t<tr><th scope=row>17</th><td>17</td><td>Casado  </td><td>Ensino Medio</td><td> 2</td><td>13.6</td><td>Outra   </td><td>420</td></tr>\n",
       "\t<tr><th scope=row>18</th><td>18</td><td>Casado  </td><td>Ensino Medio</td><td> 1</td><td>16.6</td><td>Interior</td><td>436</td></tr>\n",
       "\t<tr><th scope=row>21</th><td>21</td><td>Casado  </td><td>Ensino Medio</td><td> 2</td><td>19.4</td><td>Capital </td><td>587</td></tr>\n",
       "\t<tr><th scope=row>26</th><td>26</td><td>Casado  </td><td>Ensino Medio</td><td> 2</td><td> 7.2</td><td>Interior</td><td>307</td></tr>\n",
       "\t<tr><th scope=row>28</th><td>28</td><td>Solteiro</td><td>Ensino Medio</td><td>NA</td><td> 8.4</td><td>Capital </td><td>359</td></tr>\n",
       "\t<tr><th scope=row>32</th><td>32</td><td>Solteiro</td><td>Ensino Medio</td><td>NA</td><td>14.9</td><td>Interior</td><td>339</td></tr>\n",
       "\t<tr><th scope=row>34</th><td>34</td><td>Casado  </td><td>Ensino Medio</td><td> 3</td><td> 5.4</td><td>Capital </td><td>489</td></tr>\n",
       "\t<tr><th scope=row>38</th><td>38</td><td>Solteiro</td><td>Ensino Medio</td><td>NA</td><td> 5.7</td><td>Outra   </td><td>250</td></tr>\n",
       "\t<tr><th scope=row>43</th><td>43</td><td>Solteiro</td><td>Ensino Medio</td><td>NA</td><td> 7.4</td><td>Outra   </td><td>282</td></tr>\n",
       "\t<tr><th scope=row>44</th><td>44</td><td>Solteiro</td><td>Ensino Medio</td><td>NA</td><td> 8.7</td><td>Outra   </td><td>449</td></tr>\n",
       "\t<tr><th scope=row>46</th><td>46</td><td>Casado  </td><td>Ensino Medio</td><td> 0</td><td> 9.1</td><td>Interior</td><td>365</td></tr>\n",
       "\t<tr><th scope=row>48</th><td>48</td><td>Casado  </td><td>Ensino Medio</td><td> 1</td><td> 7.6</td><td>Capital </td><td>418</td></tr>\n",
       "\t<tr><th scope=row>50</th><td>50</td><td>Casado  </td><td>Ensino Medio</td><td> 2</td><td> 8.1</td><td>Interior</td><td>402</td></tr>\n",
       "</tbody>\n",
       "</table>\n"
      ],
      "text/latex": [
       "A data.frame: 22 × 7\n",
       "\\begin{tabular}{r|lllllll}\n",
       "  & nr & ec & gi & nf & sa & rp & id\\\\\n",
       "  & <int> & <chr> & <chr> & <int> & <dbl> & <chr> & <int>\\\\\n",
       "\\hline\n",
       "\t2 &  2 & Solteiro & Ensino Medio & NA &  9.4 & Outra    & 464\\\\\n",
       "\t3 &  3 & Casado   & Ensino Medio &  1 &  9.8 & Capital  & 379\\\\\n",
       "\t6 &  6 & Solteiro & Ensino Medio & NA & 10.8 & Interior & 448\\\\\n",
       "\t7 &  7 & Casado   & Ensino Medio &  1 & 11.1 & Outra    & 369\\\\\n",
       "\t8 &  8 & Solteiro & Ensino Medio & NA & 11.6 & Capital  & 410\\\\\n",
       "\t11 & 11 & Casado   & Ensino Medio &  2 & 13.2 & Interior & 389\\\\\n",
       "\t14 & 14 & Casado   & Ensino Medio &  0 & 14.7 & Interior & 356\\\\\n",
       "\t15 & 15 & Casado   & Ensino Medio &  5 & 14.7 & Interior & 486\\\\\n",
       "\t16 & 16 & Casado   & Ensino Medio &  2 & 16.0 & Capital  & 430\\\\\n",
       "\t17 & 17 & Casado   & Ensino Medio &  2 & 13.6 & Outra    & 420\\\\\n",
       "\t18 & 18 & Casado   & Ensino Medio &  1 & 16.6 & Interior & 436\\\\\n",
       "\t21 & 21 & Casado   & Ensino Medio &  2 & 19.4 & Capital  & 587\\\\\n",
       "\t26 & 26 & Casado   & Ensino Medio &  2 &  7.2 & Interior & 307\\\\\n",
       "\t28 & 28 & Solteiro & Ensino Medio & NA &  8.4 & Capital  & 359\\\\\n",
       "\t32 & 32 & Solteiro & Ensino Medio & NA & 14.9 & Interior & 339\\\\\n",
       "\t34 & 34 & Casado   & Ensino Medio &  3 &  5.4 & Capital  & 489\\\\\n",
       "\t38 & 38 & Solteiro & Ensino Medio & NA &  5.7 & Outra    & 250\\\\\n",
       "\t43 & 43 & Solteiro & Ensino Medio & NA &  7.4 & Outra    & 282\\\\\n",
       "\t44 & 44 & Solteiro & Ensino Medio & NA &  8.7 & Outra    & 449\\\\\n",
       "\t46 & 46 & Casado   & Ensino Medio &  0 &  9.1 & Interior & 365\\\\\n",
       "\t48 & 48 & Casado   & Ensino Medio &  1 &  7.6 & Capital  & 418\\\\\n",
       "\t50 & 50 & Casado   & Ensino Medio &  2 &  8.1 & Interior & 402\\\\\n",
       "\\end{tabular}\n"
      ],
      "text/markdown": [
       "\n",
       "A data.frame: 22 × 7\n",
       "\n",
       "| <!--/--> | nr &lt;int&gt; | ec &lt;chr&gt; | gi &lt;chr&gt; | nf &lt;int&gt; | sa &lt;dbl&gt; | rp &lt;chr&gt; | id &lt;int&gt; |\n",
       "|---|---|---|---|---|---|---|---|\n",
       "| 2 |  2 | Solteiro | Ensino Medio | NA |  9.4 | Outra    | 464 |\n",
       "| 3 |  3 | Casado   | Ensino Medio |  1 |  9.8 | Capital  | 379 |\n",
       "| 6 |  6 | Solteiro | Ensino Medio | NA | 10.8 | Interior | 448 |\n",
       "| 7 |  7 | Casado   | Ensino Medio |  1 | 11.1 | Outra    | 369 |\n",
       "| 8 |  8 | Solteiro | Ensino Medio | NA | 11.6 | Capital  | 410 |\n",
       "| 11 | 11 | Casado   | Ensino Medio |  2 | 13.2 | Interior | 389 |\n",
       "| 14 | 14 | Casado   | Ensino Medio |  0 | 14.7 | Interior | 356 |\n",
       "| 15 | 15 | Casado   | Ensino Medio |  5 | 14.7 | Interior | 486 |\n",
       "| 16 | 16 | Casado   | Ensino Medio |  2 | 16.0 | Capital  | 430 |\n",
       "| 17 | 17 | Casado   | Ensino Medio |  2 | 13.6 | Outra    | 420 |\n",
       "| 18 | 18 | Casado   | Ensino Medio |  1 | 16.6 | Interior | 436 |\n",
       "| 21 | 21 | Casado   | Ensino Medio |  2 | 19.4 | Capital  | 587 |\n",
       "| 26 | 26 | Casado   | Ensino Medio |  2 |  7.2 | Interior | 307 |\n",
       "| 28 | 28 | Solteiro | Ensino Medio | NA |  8.4 | Capital  | 359 |\n",
       "| 32 | 32 | Solteiro | Ensino Medio | NA | 14.9 | Interior | 339 |\n",
       "| 34 | 34 | Casado   | Ensino Medio |  3 |  5.4 | Capital  | 489 |\n",
       "| 38 | 38 | Solteiro | Ensino Medio | NA |  5.7 | Outra    | 250 |\n",
       "| 43 | 43 | Solteiro | Ensino Medio | NA |  7.4 | Outra    | 282 |\n",
       "| 44 | 44 | Solteiro | Ensino Medio | NA |  8.7 | Outra    | 449 |\n",
       "| 46 | 46 | Casado   | Ensino Medio |  0 |  9.1 | Interior | 365 |\n",
       "| 48 | 48 | Casado   | Ensino Medio |  1 |  7.6 | Capital  | 418 |\n",
       "| 50 | 50 | Casado   | Ensino Medio |  2 |  8.1 | Interior | 402 |\n",
       "\n"
      ],
      "text/plain": [
       "   nr ec       gi           nf sa   rp       id \n",
       "2   2 Solteiro Ensino Medio NA  9.4 Outra    464\n",
       "3   3 Casado   Ensino Medio  1  9.8 Capital  379\n",
       "6   6 Solteiro Ensino Medio NA 10.8 Interior 448\n",
       "7   7 Casado   Ensino Medio  1 11.1 Outra    369\n",
       "8   8 Solteiro Ensino Medio NA 11.6 Capital  410\n",
       "11 11 Casado   Ensino Medio  2 13.2 Interior 389\n",
       "14 14 Casado   Ensino Medio  0 14.7 Interior 356\n",
       "15 15 Casado   Ensino Medio  5 14.7 Interior 486\n",
       "16 16 Casado   Ensino Medio  2 16.0 Capital  430\n",
       "17 17 Casado   Ensino Medio  2 13.6 Outra    420\n",
       "18 18 Casado   Ensino Medio  1 16.6 Interior 436\n",
       "21 21 Casado   Ensino Medio  2 19.4 Capital  587\n",
       "26 26 Casado   Ensino Medio  2  7.2 Interior 307\n",
       "28 28 Solteiro Ensino Medio NA  8.4 Capital  359\n",
       "32 32 Solteiro Ensino Medio NA 14.9 Interior 339\n",
       "34 34 Casado   Ensino Medio  3  5.4 Capital  489\n",
       "38 38 Solteiro Ensino Medio NA  5.7 Outra    250\n",
       "43 43 Solteiro Ensino Medio NA  7.4 Outra    282\n",
       "44 44 Solteiro Ensino Medio NA  8.7 Outra    449\n",
       "46 46 Casado   Ensino Medio  0  9.1 Interior 365\n",
       "48 48 Casado   Ensino Medio  1  7.6 Capital  418\n",
       "50 50 Casado   Ensino Medio  2  8.1 Interior 402"
      ]
     },
     "metadata": {},
     "output_type": "display_data"
    }
   ],
   "source": [
    "res1 = subset(tabela2, subset = gi=='Ensino Medio')\n",
    "res1"
   ]
  },
  {
   "cell_type": "markdown",
   "id": "f9d74dd9",
   "metadata": {},
   "source": [
    "32. Crie o data frame res2 contendo apenas os registros de empregados casados com ensino superior."
   ]
  },
  {
   "cell_type": "code",
   "execution_count": 229,
   "id": "40b2ee72",
   "metadata": {},
   "outputs": [
    {
     "data": {
      "text/html": [
       "<table class=\"dataframe\">\n",
       "<caption>A data.frame: 9 × 7</caption>\n",
       "<thead>\n",
       "\t<tr><th></th><th scope=col>nr</th><th scope=col>ec</th><th scope=col>gi</th><th scope=col>nf</th><th scope=col>sa</th><th scope=col>rp</th><th scope=col>id</th></tr>\n",
       "\t<tr><th></th><th scope=col>&lt;int&gt;</th><th scope=col>&lt;chr&gt;</th><th scope=col>&lt;chr&gt;</th><th scope=col>&lt;int&gt;</th><th scope=col>&lt;dbl&gt;</th><th scope=col>&lt;chr&gt;</th><th scope=col>&lt;int&gt;</th></tr>\n",
       "</thead>\n",
       "<tbody>\n",
       "\t<tr><th scope=row>9</th><td> 9</td><td>Casado</td><td>Superior</td><td>0</td><td>12.8</td><td>Outra   </td><td>313</td></tr>\n",
       "\t<tr><th scope=row>19</th><td>19</td><td>Casado</td><td>Superior</td><td>3</td><td>17.3</td><td>Capital </td><td>523</td></tr>\n",
       "\t<tr><th scope=row>20</th><td>20</td><td>Casado</td><td>Superior</td><td>3</td><td>23.3</td><td>Interior</td><td>506</td></tr>\n",
       "\t<tr><th scope=row>27</th><td>27</td><td>Casado</td><td>Superior</td><td>1</td><td> 7.8</td><td>Interior</td><td>464</td></tr>\n",
       "\t<tr><th scope=row>29</th><td>29</td><td>Casado</td><td>Superior</td><td>1</td><td> 9.5</td><td>Capital </td><td>470</td></tr>\n",
       "\t<tr><th scope=row>30</th><td>30</td><td>Casado</td><td>Superior</td><td>2</td><td>20.0</td><td>Capital </td><td>399</td></tr>\n",
       "\t<tr><th scope=row>33</th><td>33</td><td>Casado</td><td>Superior</td><td>1</td><td>16.5</td><td>Interior</td><td>420</td></tr>\n",
       "\t<tr><th scope=row>35</th><td>35</td><td>Casado</td><td>Superior</td><td>2</td><td>17.5</td><td>Capital </td><td>401</td></tr>\n",
       "\t<tr><th scope=row>36</th><td>36</td><td>Casado</td><td>Superior</td><td>2</td><td>10.2</td><td>Outra   </td><td>318</td></tr>\n",
       "</tbody>\n",
       "</table>\n"
      ],
      "text/latex": [
       "A data.frame: 9 × 7\n",
       "\\begin{tabular}{r|lllllll}\n",
       "  & nr & ec & gi & nf & sa & rp & id\\\\\n",
       "  & <int> & <chr> & <chr> & <int> & <dbl> & <chr> & <int>\\\\\n",
       "\\hline\n",
       "\t9 &  9 & Casado & Superior & 0 & 12.8 & Outra    & 313\\\\\n",
       "\t19 & 19 & Casado & Superior & 3 & 17.3 & Capital  & 523\\\\\n",
       "\t20 & 20 & Casado & Superior & 3 & 23.3 & Interior & 506\\\\\n",
       "\t27 & 27 & Casado & Superior & 1 &  7.8 & Interior & 464\\\\\n",
       "\t29 & 29 & Casado & Superior & 1 &  9.5 & Capital  & 470\\\\\n",
       "\t30 & 30 & Casado & Superior & 2 & 20.0 & Capital  & 399\\\\\n",
       "\t33 & 33 & Casado & Superior & 1 & 16.5 & Interior & 420\\\\\n",
       "\t35 & 35 & Casado & Superior & 2 & 17.5 & Capital  & 401\\\\\n",
       "\t36 & 36 & Casado & Superior & 2 & 10.2 & Outra    & 318\\\\\n",
       "\\end{tabular}\n"
      ],
      "text/markdown": [
       "\n",
       "A data.frame: 9 × 7\n",
       "\n",
       "| <!--/--> | nr &lt;int&gt; | ec &lt;chr&gt; | gi &lt;chr&gt; | nf &lt;int&gt; | sa &lt;dbl&gt; | rp &lt;chr&gt; | id &lt;int&gt; |\n",
       "|---|---|---|---|---|---|---|---|\n",
       "| 9 |  9 | Casado | Superior | 0 | 12.8 | Outra    | 313 |\n",
       "| 19 | 19 | Casado | Superior | 3 | 17.3 | Capital  | 523 |\n",
       "| 20 | 20 | Casado | Superior | 3 | 23.3 | Interior | 506 |\n",
       "| 27 | 27 | Casado | Superior | 1 |  7.8 | Interior | 464 |\n",
       "| 29 | 29 | Casado | Superior | 1 |  9.5 | Capital  | 470 |\n",
       "| 30 | 30 | Casado | Superior | 2 | 20.0 | Capital  | 399 |\n",
       "| 33 | 33 | Casado | Superior | 1 | 16.5 | Interior | 420 |\n",
       "| 35 | 35 | Casado | Superior | 2 | 17.5 | Capital  | 401 |\n",
       "| 36 | 36 | Casado | Superior | 2 | 10.2 | Outra    | 318 |\n",
       "\n"
      ],
      "text/plain": [
       "   nr ec     gi       nf sa   rp       id \n",
       "9   9 Casado Superior 0  12.8 Outra    313\n",
       "19 19 Casado Superior 3  17.3 Capital  523\n",
       "20 20 Casado Superior 3  23.3 Interior 506\n",
       "27 27 Casado Superior 1   7.8 Interior 464\n",
       "29 29 Casado Superior 1   9.5 Capital  470\n",
       "30 30 Casado Superior 2  20.0 Capital  399\n",
       "33 33 Casado Superior 1  16.5 Interior 420\n",
       "35 35 Casado Superior 2  17.5 Capital  401\n",
       "36 36 Casado Superior 2  10.2 Outra    318"
      ]
     },
     "metadata": {},
     "output_type": "display_data"
    }
   ],
   "source": [
    "res2 = subset(tabela2, subset = ec=='Casado' & gi=='Superior')\n",
    "res2"
   ]
  },
  {
   "cell_type": "markdown",
   "id": "06e94663",
   "metadata": {},
   "source": [
    "33. Crie o data frame res3 contendo apenas as variáveis grau de instrução, salário e região de procedência para os empregados com salário acima de 16 sm."
   ]
  },
  {
   "cell_type": "code",
   "execution_count": 232,
   "id": "3c475d1b",
   "metadata": {},
   "outputs": [
    {
     "data": {
      "text/html": [
       "<table class=\"dataframe\">\n",
       "<caption>A data.frame: 10 × 3</caption>\n",
       "<thead>\n",
       "\t<tr><th></th><th scope=col>gi</th><th scope=col>sa</th><th scope=col>rp</th></tr>\n",
       "\t<tr><th></th><th scope=col>&lt;chr&gt;</th><th scope=col>&lt;dbl&gt;</th><th scope=col>&lt;chr&gt;</th></tr>\n",
       "</thead>\n",
       "<tbody>\n",
       "\t<tr><th scope=row>12</th><td>Superior    </td><td>16.2</td><td>Outra   </td></tr>\n",
       "\t<tr><th scope=row>18</th><td>Ensino Medio</td><td>16.6</td><td>Interior</td></tr>\n",
       "\t<tr><th scope=row>19</th><td>Superior    </td><td>17.3</td><td>Capital </td></tr>\n",
       "\t<tr><th scope=row>20</th><td>Superior    </td><td>23.3</td><td>Interior</td></tr>\n",
       "\t<tr><th scope=row>21</th><td>Ensino Medio</td><td>19.4</td><td>Capital </td></tr>\n",
       "\t<tr><th scope=row>22</th><td>Superior    </td><td>18.8</td><td>Capital </td></tr>\n",
       "\t<tr><th scope=row>24</th><td>Superior    </td><td>17.4</td><td>Capital </td></tr>\n",
       "\t<tr><th scope=row>30</th><td>Superior    </td><td>20.0</td><td>Capital </td></tr>\n",
       "\t<tr><th scope=row>33</th><td>Superior    </td><td>16.5</td><td>Interior</td></tr>\n",
       "\t<tr><th scope=row>35</th><td>Superior    </td><td>17.5</td><td>Capital </td></tr>\n",
       "</tbody>\n",
       "</table>\n"
      ],
      "text/latex": [
       "A data.frame: 10 × 3\n",
       "\\begin{tabular}{r|lll}\n",
       "  & gi & sa & rp\\\\\n",
       "  & <chr> & <dbl> & <chr>\\\\\n",
       "\\hline\n",
       "\t12 & Superior     & 16.2 & Outra   \\\\\n",
       "\t18 & Ensino Medio & 16.6 & Interior\\\\\n",
       "\t19 & Superior     & 17.3 & Capital \\\\\n",
       "\t20 & Superior     & 23.3 & Interior\\\\\n",
       "\t21 & Ensino Medio & 19.4 & Capital \\\\\n",
       "\t22 & Superior     & 18.8 & Capital \\\\\n",
       "\t24 & Superior     & 17.4 & Capital \\\\\n",
       "\t30 & Superior     & 20.0 & Capital \\\\\n",
       "\t33 & Superior     & 16.5 & Interior\\\\\n",
       "\t35 & Superior     & 17.5 & Capital \\\\\n",
       "\\end{tabular}\n"
      ],
      "text/markdown": [
       "\n",
       "A data.frame: 10 × 3\n",
       "\n",
       "| <!--/--> | gi &lt;chr&gt; | sa &lt;dbl&gt; | rp &lt;chr&gt; |\n",
       "|---|---|---|---|\n",
       "| 12 | Superior     | 16.2 | Outra    |\n",
       "| 18 | Ensino Medio | 16.6 | Interior |\n",
       "| 19 | Superior     | 17.3 | Capital  |\n",
       "| 20 | Superior     | 23.3 | Interior |\n",
       "| 21 | Ensino Medio | 19.4 | Capital  |\n",
       "| 22 | Superior     | 18.8 | Capital  |\n",
       "| 24 | Superior     | 17.4 | Capital  |\n",
       "| 30 | Superior     | 20.0 | Capital  |\n",
       "| 33 | Superior     | 16.5 | Interior |\n",
       "| 35 | Superior     | 17.5 | Capital  |\n",
       "\n"
      ],
      "text/plain": [
       "   gi           sa   rp      \n",
       "12 Superior     16.2 Outra   \n",
       "18 Ensino Medio 16.6 Interior\n",
       "19 Superior     17.3 Capital \n",
       "20 Superior     23.3 Interior\n",
       "21 Ensino Medio 19.4 Capital \n",
       "22 Superior     18.8 Capital \n",
       "24 Superior     17.4 Capital \n",
       "30 Superior     20.0 Capital \n",
       "33 Superior     16.5 Interior\n",
       "35 Superior     17.5 Capital "
      ]
     },
     "metadata": {},
     "output_type": "display_data"
    }
   ],
   "source": [
    "res3 = subset(tabela2, subset = sa>16, select = c('gi', 'sa', 'rp'))\n",
    "res3"
   ]
  },
  {
   "cell_type": "markdown",
   "id": "0870173c",
   "metadata": {},
   "source": [
    "34. Qual o salário médio dos empregados que são casados e tem ensino médio?"
   ]
  },
  {
   "cell_type": "code",
   "execution_count": 249,
   "id": "69aed66f",
   "metadata": {},
   "outputs": [
    {
     "data": {
      "text/html": [
       "11.8928571428571"
      ],
      "text/latex": [
       "11.8928571428571"
      ],
      "text/markdown": [
       "11.8928571428571"
      ],
      "text/plain": [
       "[1] 11.89286"
      ]
     },
     "metadata": {},
     "output_type": "display_data"
    }
   ],
   "source": [
    "cem = subset(tabela2, subset = ec=='Casado' & gi=='Ensino Medio', select = 'sa')\n",
    "mean(cem$sa)"
   ]
  },
  {
   "cell_type": "markdown",
   "id": "2788b23b",
   "metadata": {},
   "source": [
    "35. Quais os salários médios para todas as combinações possíveis das variáveis ec, gi e rp?"
   ]
  },
  {
   "cell_type": "code",
   "execution_count": null,
   "id": "f6d37646",
   "metadata": {},
   "outputs": [],
   "source": []
  },
  {
   "cell_type": "markdown",
   "id": "82c871b2",
   "metadata": {},
   "source": [
    "36. Quais empregados são solteiros?"
   ]
  },
  {
   "cell_type": "code",
   "execution_count": 256,
   "id": "afc81f86",
   "metadata": {},
   "outputs": [
    {
     "data": {
      "text/html": [
       "<table class=\"dataframe\">\n",
       "<caption>A data.frame: 21 × 7</caption>\n",
       "<thead>\n",
       "\t<tr><th></th><th scope=col>nr</th><th scope=col>ec</th><th scope=col>gi</th><th scope=col>nf</th><th scope=col>sa</th><th scope=col>rp</th><th scope=col>id</th></tr>\n",
       "\t<tr><th></th><th scope=col>&lt;int&gt;</th><th scope=col>&lt;chr&gt;</th><th scope=col>&lt;chr&gt;</th><th scope=col>&lt;int&gt;</th><th scope=col>&lt;dbl&gt;</th><th scope=col>&lt;chr&gt;</th><th scope=col>&lt;int&gt;</th></tr>\n",
       "</thead>\n",
       "<tbody>\n",
       "\t<tr><th scope=row>1</th><td> 1</td><td>Solteiro</td><td>Ensino Fundamental</td><td>NA</td><td> 4.0</td><td>Interior</td><td>315</td></tr>\n",
       "\t<tr><th scope=row>2</th><td> 2</td><td>Solteiro</td><td>Ensino Medio      </td><td>NA</td><td> 9.4</td><td>Outra   </td><td>464</td></tr>\n",
       "\t<tr><th scope=row>5</th><td> 5</td><td>Solteiro</td><td>Superior          </td><td>NA</td><td>10.5</td><td>Interior</td><td>308</td></tr>\n",
       "\t<tr><th scope=row>6</th><td> 6</td><td>Solteiro</td><td>Ensino Medio      </td><td>NA</td><td>10.8</td><td>Interior</td><td>448</td></tr>\n",
       "\t<tr><th scope=row>8</th><td> 8</td><td>Solteiro</td><td>Ensino Medio      </td><td>NA</td><td>11.6</td><td>Capital </td><td>410</td></tr>\n",
       "\t<tr><th scope=row>10</th><td>10</td><td>Solteiro</td><td>Ensino Fundamental</td><td>NA</td><td>12.0</td><td>Outra   </td><td>492</td></tr>\n",
       "\t<tr><th scope=row>12</th><td>12</td><td>Solteiro</td><td>Superior          </td><td>NA</td><td>16.2</td><td>Outra   </td><td>377</td></tr>\n",
       "\t<tr><th scope=row>13</th><td>13</td><td>Solteiro</td><td>Ensino Fundamental</td><td>NA</td><td>13.9</td><td>Outra   </td><td>559</td></tr>\n",
       "\t<tr><th scope=row>22</th><td>22</td><td>Solteiro</td><td>Superior          </td><td>NA</td><td>18.8</td><td>Capital </td><td>403</td></tr>\n",
       "\t<tr><th scope=row>24</th><td>24</td><td>Solteiro</td><td>Superior          </td><td>NA</td><td>17.4</td><td>Capital </td><td>355</td></tr>\n",
       "\t<tr><th scope=row>25</th><td>25</td><td>Solteiro</td><td>Superior          </td><td>NA</td><td> 6.1</td><td>Capital </td><td>431</td></tr>\n",
       "\t<tr><th scope=row>28</th><td>28</td><td>Solteiro</td><td>Ensino Medio      </td><td>NA</td><td> 8.4</td><td>Capital </td><td>359</td></tr>\n",
       "\t<tr><th scope=row>31</th><td>31</td><td>Solteiro</td><td>Superior          </td><td>NA</td><td>12.5</td><td>Interior</td><td>418</td></tr>\n",
       "\t<tr><th scope=row>32</th><td>32</td><td>Solteiro</td><td>Ensino Medio      </td><td>NA</td><td>14.9</td><td>Interior</td><td>339</td></tr>\n",
       "\t<tr><th scope=row>38</th><td>38</td><td>Solteiro</td><td>Ensino Medio      </td><td>NA</td><td> 5.7</td><td>Outra   </td><td>250</td></tr>\n",
       "\t<tr><th scope=row>39</th><td>39</td><td>Solteiro</td><td>Ensino Fundamental</td><td>NA</td><td> 6.9</td><td>Interior</td><td>492</td></tr>\n",
       "\t<tr><th scope=row>41</th><td>41</td><td>Solteiro</td><td>Ensino Fundamental</td><td>NA</td><td> 6.3</td><td>Outra   </td><td>487</td></tr>\n",
       "\t<tr><th scope=row>43</th><td>43</td><td>Solteiro</td><td>Ensino Medio      </td><td>NA</td><td> 7.4</td><td>Outra   </td><td>282</td></tr>\n",
       "\t<tr><th scope=row>44</th><td>44</td><td>Solteiro</td><td>Ensino Medio      </td><td>NA</td><td> 8.7</td><td>Outra   </td><td>449</td></tr>\n",
       "\t<tr><th scope=row>47</th><td>47</td><td>Solteiro</td><td>Ensino Fundamental</td><td>NA</td><td> 7.4</td><td>Capital </td><td>520</td></tr>\n",
       "\t<tr><th scope=row>49</th><td>49</td><td>Solteiro</td><td>Ensino Fundamental</td><td>NA</td><td> 8.5</td><td>Capital </td><td>335</td></tr>\n",
       "</tbody>\n",
       "</table>\n"
      ],
      "text/latex": [
       "A data.frame: 21 × 7\n",
       "\\begin{tabular}{r|lllllll}\n",
       "  & nr & ec & gi & nf & sa & rp & id\\\\\n",
       "  & <int> & <chr> & <chr> & <int> & <dbl> & <chr> & <int>\\\\\n",
       "\\hline\n",
       "\t1 &  1 & Solteiro & Ensino Fundamental & NA &  4.0 & Interior & 315\\\\\n",
       "\t2 &  2 & Solteiro & Ensino Medio       & NA &  9.4 & Outra    & 464\\\\\n",
       "\t5 &  5 & Solteiro & Superior           & NA & 10.5 & Interior & 308\\\\\n",
       "\t6 &  6 & Solteiro & Ensino Medio       & NA & 10.8 & Interior & 448\\\\\n",
       "\t8 &  8 & Solteiro & Ensino Medio       & NA & 11.6 & Capital  & 410\\\\\n",
       "\t10 & 10 & Solteiro & Ensino Fundamental & NA & 12.0 & Outra    & 492\\\\\n",
       "\t12 & 12 & Solteiro & Superior           & NA & 16.2 & Outra    & 377\\\\\n",
       "\t13 & 13 & Solteiro & Ensino Fundamental & NA & 13.9 & Outra    & 559\\\\\n",
       "\t22 & 22 & Solteiro & Superior           & NA & 18.8 & Capital  & 403\\\\\n",
       "\t24 & 24 & Solteiro & Superior           & NA & 17.4 & Capital  & 355\\\\\n",
       "\t25 & 25 & Solteiro & Superior           & NA &  6.1 & Capital  & 431\\\\\n",
       "\t28 & 28 & Solteiro & Ensino Medio       & NA &  8.4 & Capital  & 359\\\\\n",
       "\t31 & 31 & Solteiro & Superior           & NA & 12.5 & Interior & 418\\\\\n",
       "\t32 & 32 & Solteiro & Ensino Medio       & NA & 14.9 & Interior & 339\\\\\n",
       "\t38 & 38 & Solteiro & Ensino Medio       & NA &  5.7 & Outra    & 250\\\\\n",
       "\t39 & 39 & Solteiro & Ensino Fundamental & NA &  6.9 & Interior & 492\\\\\n",
       "\t41 & 41 & Solteiro & Ensino Fundamental & NA &  6.3 & Outra    & 487\\\\\n",
       "\t43 & 43 & Solteiro & Ensino Medio       & NA &  7.4 & Outra    & 282\\\\\n",
       "\t44 & 44 & Solteiro & Ensino Medio       & NA &  8.7 & Outra    & 449\\\\\n",
       "\t47 & 47 & Solteiro & Ensino Fundamental & NA &  7.4 & Capital  & 520\\\\\n",
       "\t49 & 49 & Solteiro & Ensino Fundamental & NA &  8.5 & Capital  & 335\\\\\n",
       "\\end{tabular}\n"
      ],
      "text/markdown": [
       "\n",
       "A data.frame: 21 × 7\n",
       "\n",
       "| <!--/--> | nr &lt;int&gt; | ec &lt;chr&gt; | gi &lt;chr&gt; | nf &lt;int&gt; | sa &lt;dbl&gt; | rp &lt;chr&gt; | id &lt;int&gt; |\n",
       "|---|---|---|---|---|---|---|---|\n",
       "| 1 |  1 | Solteiro | Ensino Fundamental | NA |  4.0 | Interior | 315 |\n",
       "| 2 |  2 | Solteiro | Ensino Medio       | NA |  9.4 | Outra    | 464 |\n",
       "| 5 |  5 | Solteiro | Superior           | NA | 10.5 | Interior | 308 |\n",
       "| 6 |  6 | Solteiro | Ensino Medio       | NA | 10.8 | Interior | 448 |\n",
       "| 8 |  8 | Solteiro | Ensino Medio       | NA | 11.6 | Capital  | 410 |\n",
       "| 10 | 10 | Solteiro | Ensino Fundamental | NA | 12.0 | Outra    | 492 |\n",
       "| 12 | 12 | Solteiro | Superior           | NA | 16.2 | Outra    | 377 |\n",
       "| 13 | 13 | Solteiro | Ensino Fundamental | NA | 13.9 | Outra    | 559 |\n",
       "| 22 | 22 | Solteiro | Superior           | NA | 18.8 | Capital  | 403 |\n",
       "| 24 | 24 | Solteiro | Superior           | NA | 17.4 | Capital  | 355 |\n",
       "| 25 | 25 | Solteiro | Superior           | NA |  6.1 | Capital  | 431 |\n",
       "| 28 | 28 | Solteiro | Ensino Medio       | NA |  8.4 | Capital  | 359 |\n",
       "| 31 | 31 | Solteiro | Superior           | NA | 12.5 | Interior | 418 |\n",
       "| 32 | 32 | Solteiro | Ensino Medio       | NA | 14.9 | Interior | 339 |\n",
       "| 38 | 38 | Solteiro | Ensino Medio       | NA |  5.7 | Outra    | 250 |\n",
       "| 39 | 39 | Solteiro | Ensino Fundamental | NA |  6.9 | Interior | 492 |\n",
       "| 41 | 41 | Solteiro | Ensino Fundamental | NA |  6.3 | Outra    | 487 |\n",
       "| 43 | 43 | Solteiro | Ensino Medio       | NA |  7.4 | Outra    | 282 |\n",
       "| 44 | 44 | Solteiro | Ensino Medio       | NA |  8.7 | Outra    | 449 |\n",
       "| 47 | 47 | Solteiro | Ensino Fundamental | NA |  7.4 | Capital  | 520 |\n",
       "| 49 | 49 | Solteiro | Ensino Fundamental | NA |  8.5 | Capital  | 335 |\n",
       "\n"
      ],
      "text/plain": [
       "   nr ec       gi                 nf sa   rp       id \n",
       "1   1 Solteiro Ensino Fundamental NA  4.0 Interior 315\n",
       "2   2 Solteiro Ensino Medio       NA  9.4 Outra    464\n",
       "5   5 Solteiro Superior           NA 10.5 Interior 308\n",
       "6   6 Solteiro Ensino Medio       NA 10.8 Interior 448\n",
       "8   8 Solteiro Ensino Medio       NA 11.6 Capital  410\n",
       "10 10 Solteiro Ensino Fundamental NA 12.0 Outra    492\n",
       "12 12 Solteiro Superior           NA 16.2 Outra    377\n",
       "13 13 Solteiro Ensino Fundamental NA 13.9 Outra    559\n",
       "22 22 Solteiro Superior           NA 18.8 Capital  403\n",
       "24 24 Solteiro Superior           NA 17.4 Capital  355\n",
       "25 25 Solteiro Superior           NA  6.1 Capital  431\n",
       "28 28 Solteiro Ensino Medio       NA  8.4 Capital  359\n",
       "31 31 Solteiro Superior           NA 12.5 Interior 418\n",
       "32 32 Solteiro Ensino Medio       NA 14.9 Interior 339\n",
       "38 38 Solteiro Ensino Medio       NA  5.7 Outra    250\n",
       "39 39 Solteiro Ensino Fundamental NA  6.9 Interior 492\n",
       "41 41 Solteiro Ensino Fundamental NA  6.3 Outra    487\n",
       "43 43 Solteiro Ensino Medio       NA  7.4 Outra    282\n",
       "44 44 Solteiro Ensino Medio       NA  8.7 Outra    449\n",
       "47 47 Solteiro Ensino Fundamental NA  7.4 Capital  520\n",
       "49 49 Solteiro Ensino Fundamental NA  8.5 Capital  335"
      ]
     },
     "metadata": {},
     "output_type": "display_data"
    }
   ],
   "source": [
    "solteiros = subset(tabela2, subset = ec=='Solteiro')\n",
    "solteiros"
   ]
  },
  {
   "cell_type": "markdown",
   "id": "9dd39695",
   "metadata": {},
   "source": [
    "37. Apresente apenas os registros dos empregados que ganham menos de 5 sm?"
   ]
  },
  {
   "cell_type": "code",
   "execution_count": 259,
   "id": "af90c961",
   "metadata": {},
   "outputs": [
    {
     "data": {
      "text/html": [
       "<table class=\"dataframe\">\n",
       "<caption>A data.frame: 3 × 1</caption>\n",
       "<thead>\n",
       "\t<tr><th></th><th scope=col>nr</th></tr>\n",
       "\t<tr><th></th><th scope=col>&lt;int&gt;</th></tr>\n",
       "</thead>\n",
       "<tbody>\n",
       "\t<tr><th scope=row>1</th><td> 1</td></tr>\n",
       "\t<tr><th scope=row>23</th><td>23</td></tr>\n",
       "\t<tr><th scope=row>37</th><td>37</td></tr>\n",
       "</tbody>\n",
       "</table>\n"
      ],
      "text/latex": [
       "A data.frame: 3 × 1\n",
       "\\begin{tabular}{r|l}\n",
       "  & nr\\\\\n",
       "  & <int>\\\\\n",
       "\\hline\n",
       "\t1 &  1\\\\\n",
       "\t23 & 23\\\\\n",
       "\t37 & 37\\\\\n",
       "\\end{tabular}\n"
      ],
      "text/markdown": [
       "\n",
       "A data.frame: 3 × 1\n",
       "\n",
       "| <!--/--> | nr &lt;int&gt; |\n",
       "|---|---|\n",
       "| 1 |  1 |\n",
       "| 23 | 23 |\n",
       "| 37 | 37 |\n",
       "\n"
      ],
      "text/plain": [
       "   nr\n",
       "1   1\n",
       "23 23\n",
       "37 37"
      ]
     },
     "metadata": {},
     "output_type": "display_data"
    }
   ],
   "source": [
    "nr_empregados = subset(tabela2, subset = sa<5, select = 'nr')\n",
    "nr_empregados"
   ]
  },
  {
   "cell_type": "markdown",
   "id": "ce342580",
   "metadata": {},
   "source": [
    "38. Quantos empregados ganham de 8 a 10 sm?"
   ]
  },
  {
   "cell_type": "code",
   "execution_count": 264,
   "id": "860f90c0",
   "metadata": {},
   "outputs": [
    {
     "data": {
      "text/html": [
       "10"
      ],
      "text/latex": [
       "10"
      ],
      "text/markdown": [
       "10"
      ],
      "text/plain": [
       "[1] 10"
      ]
     },
     "metadata": {},
     "output_type": "display_data"
    }
   ],
   "source": [
    "aux = subset(tabela2, subset = sa>=8 & sa<=10)\n",
    "nrow(aux)"
   ]
  },
  {
   "cell_type": "markdown",
   "id": "b64c3bef",
   "metadata": {},
   "source": [
    "39. Renomear a variável id para idm (idade em meses)."
   ]
  },
  {
   "cell_type": "code",
   "execution_count": 268,
   "id": "e0d3962e",
   "metadata": {},
   "outputs": [],
   "source": [
    "names(tabela2)[names(tabela2) == \"id\"] = \"idm\""
   ]
  },
  {
   "cell_type": "markdown",
   "id": "a5eb7415",
   "metadata": {},
   "source": [
    "40. Crie o vetor ida (idade em anos) a partir da variável idm. Adicione-o a base de dados tabela2."
   ]
  },
  {
   "cell_type": "markdown",
   "id": "56e5956c",
   "metadata": {},
   "source": [
    "????? a idade já está em anos"
   ]
  },
  {
   "cell_type": "markdown",
   "id": "04d2b545",
   "metadata": {},
   "source": [
    "41. Obtenha a tabela de contingência para as variáveis região de procedência e grau de instrução (ver função xtabs)."
   ]
  },
  {
   "cell_type": "markdown",
   "id": "0f2c7f0e",
   "metadata": {},
   "source": [
    "42. Obtenha a tabela de frequência para a variável estado civil."
   ]
  },
  {
   "cell_type": "markdown",
   "id": "8d40531c",
   "metadata": {},
   "source": [
    "43. Obtenha a média, o desvio padrão e o coeficiente de variação para a variável número de filhos."
   ]
  },
  {
   "cell_type": "markdown",
   "id": "cc2ab615",
   "metadata": {},
   "source": [
    "44. Ordene o data frame tabela2 em ordem decrescente pela variável salário."
   ]
  },
  {
   "attachments": {
    "image-2.png": {
     "image/png": "[encoded data removed]"
    },
    "image.png": {
     "image/png": "[encoded data removed]"
    }
   },
   "cell_type": "markdown",
   "id": "48d71d74",
   "metadata": {},
   "source": [
    "45. Construa os seguintes histogramas (use a função text e os argumentos breaks, yaxt, xaxp, right na função hist; veja também a função par):\n",
    "![image.png](attachment:image.png)\n",
    "![image-2.png](attachment:image-2.png)"
   ]
  }
 ],
 "metadata": {
  "kernelspec": {
   "display_name": "R",
   "language": "R",
   "name": "ir"
  },
  "language_info": {
   "codemirror_mode": "r",
   "file_extension": ".r",
   "mimetype": "text/x-r-source",
   "name": "R",
   "pygments_lexer": "r",
   "version": "4.2.0"
  }
 },
 "nbformat": 4,
 "nbformat_minor": 5
}
