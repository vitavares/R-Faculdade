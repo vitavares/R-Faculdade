{
 "cells": [
  {
   "cell_type": "markdown",
   "id": "c704a8e8",
   "metadata": {},
   "source": [
    "## PARTE 1"
   ]
  },
  {
   "cell_type": "markdown",
   "id": "db44e52a",
   "metadata": {},
   "source": [
    "1. Remova todos os objetos da seção de trabalho do R."
   ]
  },
  {
   "cell_type": "code",
   "execution_count": 13,
   "id": "e5ce98fe",
   "metadata": {},
   "outputs": [],
   "source": [
    "rm(list = ls())"
   ]
  },
  {
   "cell_type": "markdown",
   "id": "5afcd1e3",
   "metadata": {},
   "source": [
    "2. Crie vetores para armazenar os dados de cada uma das colunas."
   ]
  },
  {
   "cell_type": "code",
   "execution_count": 14,
   "id": "0f284d52",
   "metadata": {},
   "outputs": [],
   "source": [
    "N = c(1:36)\n",
    "Estado_civil = c(\"solteiro\", \"casado\", \"casado\", \"solteiro\", \"solteiro\", \"casado\", \"solteiro\", \"solteiro\", \"casado\", \"solteiro\", \"casado\", \"solteiro\", \"solteiro\", \"casado\", \"casado\", \"solteiro\", \"casado\", \"casado\", \"solteiro\", \"solteiro\", \"casado\", \"solteiro\", \"solteiro\", \"casado\", \"casado\", \"casado\", \"solteiro\", \"casado\", \"casado\", \"casado\", \"solteiro\", \"casado\", \"casado\", \"solteiro\", \"casado\", \"casado\")\n",
    "Grau_de_instrução = c(\"ensino fundamental\", \"ensino fundamental\", \"ensino fundamental\", \"ensino médio\", \"ensino fundamental\", \"ensino fundamental\", \"ensino fundamental\", \"ensino fundamental\", \"ensino médio\", \"ensino médio\", \"ensino médio\", \"ensino fundamental\", \"ensino médio\", \"ensino fundamental\", \"ensino médio\", \"ensino médio\", \"ensino médio\", \"ensino fundamental\", \"superior\", \"ensino médio\", \"ensino médio\", \"ensino médio\", \"ensino fundamental\", \"superior\", \"ensino médio\", \"ensino médio\", \"ensino fundamental\", \"ensino médio\", \"ensino médio\", \"ensino médio\", \"superior\", \"ensino fundamental\", \"superior\", \"superior\", \"ensino médio\", \"superior\")\n",
    "N_de_filhos = c(NA, 1, 2, NA, NA, 0, NA, NA, 1, NA, 2, NA, NA, 3, 0, NA, 1, 2, NA, NA, 1, NA, NA, 0, 2, 2, NA, 0, 5, 2, NA, 1, 3, NA, 2, 3)\n",
    "Salario = c(400, 456, 525, 573, 626, 666, 686, 739, 759, 744, 812, 846, 874, 895, 913, 935, 977, 980, 1053, 1076, 1106, 1159, 1200, 1279, 1323, 1360, 1385, 1469, 1471, 1599, 1622, 1661, 1726, 1875, 1940, 2330)/100\n",
    "Idade_Anos = c(26, 32, 36, 20, 40, 28, 41, 43, 34, 23, 33, 27, 37, 44, 30, 38, 31, 39, 25, 37, 30, 34, 41, 26, 32, 35, 46, 29, 40, 35, 31, 36, 43, 33, 48, 42)\n",
    "Idade_meses = c(03, 10, 05, 10, 07, 00, 00, 04, 10, 06, 06, 11, 05, 02, 05, 08, 07, 07, 08, 04, 09, 02, 00, 01, 05, 00,07, 08, 06, 10, 05, 04, 07, 07, 11, 02)\n",
    "Regiao = c(\"interior\", \"capital\", \"capital\", \"outra\", \"outra\", \"interior\", \"interior\", \"capital\", \"capital\", \"outra\", \"interior\", \"capital\", \"outra\", \"capital\", \"capital\", \"interior\", \"outra\", \"capital\", \"outra\", \"interior\", \"interior\", \"outra\", \"capital\", \"outra\", \"outra\", \"interior\", \"outra\", \"outra\", \"interior\", \"interior\", \"capital\", \"outra\", \"capital\", \"capital\", \"capital\", \"interior\")"
   ]
  },
  {
   "cell_type": "markdown",
   "id": "40e58753",
   "metadata": {},
   "source": [
    "3. Crie o data frame TEB formado por todos os vetores da questão 2."
   ]
  },
  {
   "cell_type": "code",
   "execution_count": 15,
   "id": "316e9e1a",
   "metadata": {},
   "outputs": [],
   "source": [
    "TEB = data.frame(N, Estado_civil, Grau_de_instrução, N_de_filhos, Salario, Idade_Anos, Idade_meses, Regiao)"
   ]
  },
  {
   "cell_type": "markdown",
   "id": "ea682e50",
   "metadata": {},
   "source": [
    "4. Verifique a estrutuda do data frame TEB."
   ]
  },
  {
   "cell_type": "code",
   "execution_count": 16,
   "id": "7cf62a30",
   "metadata": {},
   "outputs": [
    {
     "name": "stdout",
     "output_type": "stream",
     "text": [
      "'data.frame':\t36 obs. of  8 variables:\n",
      " $ N                : int  1 2 3 4 5 6 7 8 9 10 ...\n",
      " $ Estado_civil     : chr  \"solteiro\" \"casado\" \"casado\" \"solteiro\" ...\n",
      " $ Grau_de_instrução: chr  \"ensino fundamental\" \"ensino fundamental\" \"ensino fundamental\" \"ensino médio\" ...\n",
      " $ N_de_filhos      : num  NA 1 2 NA NA 0 NA NA 1 NA ...\n",
      " $ Salario          : num  4 4.56 5.25 5.73 6.26 6.66 6.86 7.39 7.59 7.44 ...\n",
      " $ Idade_Anos       : num  26 32 36 20 40 28 41 43 34 23 ...\n",
      " $ Idade_meses      : num  3 10 5 10 7 0 0 4 10 6 ...\n",
      " $ Regiao           : chr  \"interior\" \"capital\" \"capital\" \"outra\" ...\n"
     ]
    }
   ],
   "source": [
    "str(TEB)"
   ]
  },
  {
   "cell_type": "markdown",
   "id": "bea61b8e",
   "metadata": {},
   "source": [
    "5. Qual a dimensão (número de linhas e de colunas) do data frame TEB."
   ]
  },
  {
   "cell_type": "code",
   "execution_count": 17,
   "id": "8e15914c",
   "metadata": {},
   "outputs": [
    {
     "data": {
      "text/html": [
       "<style>\n",
       ".list-inline {list-style: none; margin:0; padding: 0}\n",
       ".list-inline>li {display: inline-block}\n",
       ".list-inline>li:not(:last-child)::after {content: \"\\00b7\"; padding: 0 .5ex}\n",
       "</style>\n",
       "<ol class=list-inline><li>36</li><li>8</li></ol>\n"
      ],
      "text/latex": [
       "\\begin{enumerate*}\n",
       "\\item 36\n",
       "\\item 8\n",
       "\\end{enumerate*}\n"
      ],
      "text/markdown": [
       "1. 36\n",
       "2. 8\n",
       "\n",
       "\n"
      ],
      "text/plain": [
       "[1] 36  8"
      ]
     },
     "metadata": {},
     "output_type": "display_data"
    }
   ],
   "source": [
    "dim(TEB)"
   ]
  },
  {
   "cell_type": "markdown",
   "id": "c0e55656",
   "metadata": {},
   "source": [
    "6. Renomeie as variáveis (cabeçalho) para: “Identificação”,“Estado Civil”, “Grau de Instrução”, “No. de Filhos”, “Salário”, “IdadeA”, “IdadeM”, “Região de Procedência”."
   ]
  },
  {
   "cell_type": "code",
   "execution_count": 18,
   "id": "f79ae921",
   "metadata": {},
   "outputs": [],
   "source": [
    "colnames(TEB) = c('Identificação', 'Estado Civil', 'Grau de Instrução', 'No. de Filhos', 'Salário', 'IdadeA', 'IdadeM', 'Região de Procedência')"
   ]
  },
  {
   "cell_type": "markdown",
   "id": "d5ef9f53",
   "metadata": {},
   "source": [
    "7. Obtenha a tabela de frequência para a variável No. de Filhos."
   ]
  },
  {
   "cell_type": "code",
   "execution_count": 19,
   "id": "0af78869",
   "metadata": {},
   "outputs": [
    {
     "data": {
      "text/plain": [
       "\n",
       "   0    1    2    3    5 <NA> \n",
       "   4    5    7    3    1   16 "
      ]
     },
     "metadata": {},
     "output_type": "display_data"
    }
   ],
   "source": [
    "freq_filhos = table(TEB[, 4], useNA = \"ifany\")\n",
    "freq_filhos"
   ]
  },
  {
   "cell_type": "markdown",
   "id": "30abb596",
   "metadata": {},
   "source": [
    "8. Calcule média, mediana, desvio padrão e variância do salário."
   ]
  },
  {
   "cell_type": "code",
   "execution_count": 20,
   "id": "dd3554d7",
   "metadata": {},
   "outputs": [
    {
     "data": {
      "text/html": [
       "11.1222222222222"
      ],
      "text/latex": [
       "11.1222222222222"
      ],
      "text/markdown": [
       "11.1222222222222"
      ],
      "text/plain": [
       "[1] 11.12222"
      ]
     },
     "metadata": {},
     "output_type": "display_data"
    },
    {
     "data": {
      "text/html": [
       "10.165"
      ],
      "text/latex": [
       "10.165"
      ],
      "text/markdown": [
       "10.165"
      ],
      "text/plain": [
       "[1] 10.165"
      ]
     },
     "metadata": {},
     "output_type": "display_data"
    },
    {
     "data": {
      "text/html": [
       "4.58745750380386"
      ],
      "text/latex": [
       "4.58745750380386"
      ],
      "text/markdown": [
       "4.58745750380386"
      ],
      "text/plain": [
       "[1] 4.587458"
      ]
     },
     "metadata": {},
     "output_type": "display_data"
    },
    {
     "data": {
      "text/html": [
       "21.0447663492063"
      ],
      "text/latex": [
       "21.0447663492063"
      ],
      "text/markdown": [
       "21.0447663492063"
      ],
      "text/plain": [
       "[1] 21.04477"
      ]
     },
     "metadata": {},
     "output_type": "display_data"
    }
   ],
   "source": [
    "mean(Salario)\n",
    "median(Salario)\n",
    "sd(Salario)\n",
    "var(Salario)"
   ]
  },
  {
   "cell_type": "markdown",
   "id": "8ab70b4d",
   "metadata": {},
   "source": [
    "9. Crie o vetor salario1, dado pelo salário acrescido de 20%."
   ]
  },
  {
   "cell_type": "code",
   "execution_count": 25,
   "id": "3f79bc66",
   "metadata": {},
   "outputs": [],
   "source": [
    "Salario1 = c(TEB$Salário * 1.2)"
   ]
  },
  {
   "cell_type": "markdown",
   "id": "1b65f8b3",
   "metadata": {},
   "source": [
    "10. Crie o vetor salario2, dado pelo salário adicionado de 1,5."
   ]
  },
  {
   "cell_type": "code",
   "execution_count": 26,
   "id": "11912b05",
   "metadata": {},
   "outputs": [],
   "source": [
    "Salario2 = c(TEB$Salário + 1.5)"
   ]
  },
  {
   "cell_type": "markdown",
   "id": "05df896a",
   "metadata": {},
   "source": [
    "11. Crie o vetor salario3, dado pelo salário subtraído de 0,8."
   ]
  },
  {
   "cell_type": "code",
   "execution_count": 27,
   "id": "9c9cf94e",
   "metadata": {},
   "outputs": [],
   "source": [
    "Salario3 = c(TEB$Salário - 0.8)"
   ]
  },
  {
   "cell_type": "markdown",
   "id": "96f9d713",
   "metadata": {},
   "source": [
    "12. Crie o vetor salario4, dado pelo salário multiplicado por 2."
   ]
  },
  {
   "cell_type": "code",
   "execution_count": 28,
   "id": "6c7b8712",
   "metadata": {},
   "outputs": [],
   "source": [
    "Salario4 = c(TEB$Salário * 2)"
   ]
  },
  {
   "cell_type": "markdown",
   "id": "0e737e8c",
   "metadata": {},
   "source": [
    "13. Crie o vetor salario5, dado pelo salário dividido por 3."
   ]
  },
  {
   "cell_type": "code",
   "execution_count": 29,
   "id": "6852fcaa",
   "metadata": {},
   "outputs": [],
   "source": [
    "Salario5 = c(TEB$Salário / 3)"
   ]
  },
  {
   "cell_type": "markdown",
   "id": "b2e10f05",
   "metadata": {},
   "source": [
    "14. Calcule média, mediana, desvio padrão e variância para salario1, salario2, salario3, salario4 e salario5."
   ]
  },
  {
   "cell_type": "markdown",
   "id": "ae0d496c",
   "metadata": {},
   "source": [
    "Salário1:\n",
    "13.3466666666667 /\n",
    "12.198 /\n",
    "5.50494900456463 /\n",
    "30.3044635428571\n",
    "\n",
    "Salário2:\n",
    "12.6222222222222 /\n",
    "11.665 /\n",
    "4.58745750380386 /\n",
    "21.0447663492063\n",
    "\n",
    "Salário3:\n",
    "10.3222222222222 /\n",
    "9.365 /\n",
    "4.58745750380386 /\n",
    "21.0447663492063\n",
    "\n",
    "Salário4:\n",
    "22.2444444444444 /\n",
    "20.33 /\n",
    "9.17491500760772 /\n",
    "84.1790653968254\n",
    "\n",
    "Salário5:\n",
    "3.70740740740741 /\n",
    "3.38833333333333 /\n",
    "1.52915250126795 /\n",
    "2.33830737213404"
   ]
  },
  {
   "cell_type": "markdown",
   "id": "f5115cdd",
   "metadata": {},
   "source": [
    "15. Os resultados da questão anterior estão de acordo com as propriedades das estatísticas?"
   ]
  },
  {
   "cell_type": "markdown",
   "id": "9507d4c4",
   "metadata": {},
   "source": [
    "Sim"
   ]
  },
  {
   "cell_type": "markdown",
   "id": "384f4a15",
   "metadata": {},
   "source": [
    "16. Salve o data frame dados com o nome “DadosTEB.csv”."
   ]
  },
  {
   "cell_type": "code",
   "execution_count": null,
   "id": "bdce0b0f",
   "metadata": {},
   "outputs": [],
   "source": []
  },
  {
   "cell_type": "markdown",
   "id": "2dd1b1fd",
   "metadata": {},
   "source": [
    "## PARTE 2"
   ]
  },
  {
   "cell_type": "markdown",
   "id": "49475184",
   "metadata": {},
   "source": [
    "17. Remova todos os objetos da seção de trabalho do R."
   ]
  },
  {
   "cell_type": "code",
   "execution_count": 36,
   "id": "de752973",
   "metadata": {},
   "outputs": [],
   "source": [
    "rm(list = ls())"
   ]
  },
  {
   "cell_type": "markdown",
   "id": "909edf78",
   "metadata": {},
   "source": [
    "18. Leia o arquivo Tabela1.csv e atribua-o a um objeto (data frame) denominado tabela1."
   ]
  },
  {
   "cell_type": "code",
   "execution_count": 40,
   "id": "d8255988",
   "metadata": {},
   "outputs": [],
   "source": [
    "tabela1 = read.csv('dados/Tabela1.csv', header = TRUE, sep = ';')"
   ]
  },
  {
   "cell_type": "markdown",
   "id": "7bc0d21f",
   "metadata": {},
   "source": [
    "19. Renomeie o cabeçalho para: “Identificação”,“Estado Civil”, “Grau de Instrução”, “No. de Filhos”, “Salário”, “IdadeA”, “IdadeM”, “Região de Procedência”."
   ]
  }
 ],
 "metadata": {
  "kernelspec": {
   "display_name": "R",
   "language": "R",
   "name": "ir"
  },
  "language_info": {
   "codemirror_mode": "r",
   "file_extension": ".r",
   "mimetype": "text/x-r-source",
   "name": "R",
   "pygments_lexer": "r",
   "version": "4.2.0"
  }
 },
 "nbformat": 4,
 "nbformat_minor": 5
}
